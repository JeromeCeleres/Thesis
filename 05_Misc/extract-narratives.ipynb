{
 "cells": [
  {
   "cell_type": "code",
   "execution_count": 2,
   "metadata": {},
   "outputs": [],
   "source": [
    "from bs4 import BeautifulSoup\n",
    "import pandas as pd\n",
    "import re\n",
    "import requests"
   ]
  },
  {
   "cell_type": "code",
   "execution_count": 9,
   "metadata": {},
   "outputs": [
    {
     "data": {
      "text/html": [
       "<div>\n",
       "<style scoped>\n",
       "    .dataframe tbody tr th:only-of-type {\n",
       "        vertical-align: middle;\n",
       "    }\n",
       "\n",
       "    .dataframe tbody tr th {\n",
       "        vertical-align: top;\n",
       "    }\n",
       "\n",
       "    .dataframe thead th {\n",
       "        text-align: right;\n",
       "    }\n",
       "</style>\n",
       "<table border=\"1\" class=\"dataframe\">\n",
       "  <thead>\n",
       "    <tr style=\"text-align: right;\">\n",
       "      <th></th>\n",
       "      <th>url</th>\n",
       "    </tr>\n",
       "  </thead>\n",
       "  <tbody>\n",
       "    <tr>\n",
       "      <td>0</td>\n",
       "      <td>https://www.martiallawchroniclesproject.com/bo...</td>\n",
       "    </tr>\n",
       "    <tr>\n",
       "      <td>1</td>\n",
       "      <td>https://www.martiallawchroniclesproject.com/wo...</td>\n",
       "    </tr>\n",
       "    <tr>\n",
       "      <td>2</td>\n",
       "      <td>https://www.martiallawchroniclesproject.com/wo...</td>\n",
       "    </tr>\n",
       "    <tr>\n",
       "      <td>3</td>\n",
       "      <td>http://www.positivelyfilipino.com/magazine/mar...</td>\n",
       "    </tr>\n",
       "    <tr>\n",
       "      <td>4</td>\n",
       "      <td>https://www.martiallawchroniclesproject.com/ma...</td>\n",
       "    </tr>\n",
       "  </tbody>\n",
       "</table>\n",
       "</div>"
      ],
      "text/plain": [
       "                                                 url\n",
       "0  https://www.martiallawchroniclesproject.com/bo...\n",
       "1  https://www.martiallawchroniclesproject.com/wo...\n",
       "2  https://www.martiallawchroniclesproject.com/wo...\n",
       "3  http://www.positivelyfilipino.com/magazine/mar...\n",
       "4  https://www.martiallawchroniclesproject.com/ma..."
      ]
     },
     "execution_count": 9,
     "metadata": {},
     "output_type": "execute_result"
    }
   ],
   "source": [
    "df = pd.read_csv('martial-law-narratives.csv')\n",
    "df.head()"
   ]
  },
  {
   "cell_type": "code",
   "execution_count": 10,
   "metadata": {},
   "outputs": [],
   "source": [
    "def read_urls(file_name):\n",
    "    df = pd.read_csv(file_name)\n",
    "    df[['title', 'time', 'narrative']] = df.apply(_parse_and_extract, axis = 1)\n",
    "    return df"
   ]
  },
  {
   "cell_type": "code",
   "execution_count": 11,
   "metadata": {},
   "outputs": [],
   "source": [
    "def _parse_and_extract(row):\n",
    "    url = row['url']\n",
    "    headers = {'User-Agent':'Mozilla/5.0'}\n",
    "    r = requests.get(url, headers = headers)\n",
    "    narrative_list = []\n",
    "    soup = BeautifulSoup(r.content, 'html.parser')\n",
    "\n",
    "    if soup.find('h1') == None:\n",
    "        title = 'No Title'\n",
    "    else:\n",
    "        title = soup.find('h1').get_text()\n",
    "    time = ' '.join(str(soup.find(id=\"art_plat\")).split()[-5:])[:-6]\n",
    "    texts = soup.findAll('p')\n",
    "    for text in texts:\n",
    "        narrative_list.append(text.get_text())\n",
    "\n",
    "    narrative = '\\n'.join(narrative_list)\n",
    "    return pd.Series([title, time, narrative])"
   ]
  },
  {
   "cell_type": "code",
   "execution_count": 12,
   "metadata": {},
   "outputs": [],
   "source": [
    "df = read_urls('martial-law-narratives.csv')"
   ]
  },
  {
   "cell_type": "code",
   "execution_count": 13,
   "metadata": {},
   "outputs": [
    {
     "data": {
      "text/html": [
       "<div>\n",
       "<style scoped>\n",
       "    .dataframe tbody tr th:only-of-type {\n",
       "        vertical-align: middle;\n",
       "    }\n",
       "\n",
       "    .dataframe tbody tr th {\n",
       "        vertical-align: top;\n",
       "    }\n",
       "\n",
       "    .dataframe thead th {\n",
       "        text-align: right;\n",
       "    }\n",
       "</style>\n",
       "<table border=\"1\" class=\"dataframe\">\n",
       "  <thead>\n",
       "    <tr style=\"text-align: right;\">\n",
       "      <th></th>\n",
       "      <th>url</th>\n",
       "      <th>title</th>\n",
       "      <th>time</th>\n",
       "      <th>narrative</th>\n",
       "    </tr>\n",
       "  </thead>\n",
       "  <tbody>\n",
       "    <tr>\n",
       "      <td>0</td>\n",
       "      <td>https://www.martiallawchroniclesproject.com/bo...</td>\n",
       "      <td>Body blows, electric shock, bottle taps</td>\n",
       "      <td></td>\n",
       "      <td>by MLC | Aug 12, 2020 | Martial Law Stories\\n...</td>\n",
       "    </tr>\n",
       "    <tr>\n",
       "      <td>1</td>\n",
       "      <td>https://www.martiallawchroniclesproject.com/wo...</td>\n",
       "      <td>Women victims tell SC of Martial Law torture</td>\n",
       "      <td></td>\n",
       "      <td>by MLC | Aug 31, 2016 | Torture, Rape | 0 com...</td>\n",
       "    </tr>\n",
       "    <tr>\n",
       "      <td>2</td>\n",
       "      <td>https://www.martiallawchroniclesproject.com/wo...</td>\n",
       "      <td>Women victims tell SC of Martial Law torture</td>\n",
       "      <td></td>\n",
       "      <td>by MLC | Aug 31, 2016 | Torture, Rape | 0 com...</td>\n",
       "    </tr>\n",
       "    <tr>\n",
       "      <td>3</td>\n",
       "      <td>http://www.positivelyfilipino.com/magazine/mar...</td>\n",
       "      <td>The Magazine</td>\n",
       "      <td></td>\n",
       "      <td>POSITIVELY FILIPINO is the premier digital nat...</td>\n",
       "    </tr>\n",
       "    <tr>\n",
       "      <td>4</td>\n",
       "      <td>https://www.martiallawchroniclesproject.com/ma...</td>\n",
       "      <td>MARTIAL LAW VICTIMS | ‘I didn’t eat for a week...</td>\n",
       "      <td></td>\n",
       "      <td>by MLC | Sep 17, 2012 | Torture | 0 comments\\...</td>\n",
       "    </tr>\n",
       "  </tbody>\n",
       "</table>\n",
       "</div>"
      ],
      "text/plain": [
       "                                                 url  \\\n",
       "0  https://www.martiallawchroniclesproject.com/bo...   \n",
       "1  https://www.martiallawchroniclesproject.com/wo...   \n",
       "2  https://www.martiallawchroniclesproject.com/wo...   \n",
       "3  http://www.positivelyfilipino.com/magazine/mar...   \n",
       "4  https://www.martiallawchroniclesproject.com/ma...   \n",
       "\n",
       "                                               title time  \\\n",
       "0            Body blows, electric shock, bottle taps        \n",
       "1       Women victims tell SC of Martial Law torture        \n",
       "2       Women victims tell SC of Martial Law torture        \n",
       "3                                       The Magazine        \n",
       "4  MARTIAL LAW VICTIMS | ‘I didn’t eat for a week...        \n",
       "\n",
       "                                           narrative  \n",
       "0   by MLC | Aug 12, 2020 | Martial Law Stories\\n...  \n",
       "1   by MLC | Aug 31, 2016 | Torture, Rape | 0 com...  \n",
       "2   by MLC | Aug 31, 2016 | Torture, Rape | 0 com...  \n",
       "3  POSITIVELY FILIPINO is the premier digital nat...  \n",
       "4   by MLC | Sep 17, 2012 | Torture | 0 comments\\...  "
      ]
     },
     "execution_count": 13,
     "metadata": {},
     "output_type": "execute_result"
    }
   ],
   "source": [
    "df.head()"
   ]
  },
  {
   "cell_type": "code",
   "execution_count": 14,
   "metadata": {},
   "outputs": [],
   "source": [
    "df.to_csv(\"martial-law-narratives.csv\", index=False)"
   ]
  },
  {
   "cell_type": "code",
   "execution_count": null,
   "metadata": {},
   "outputs": [],
   "source": []
  }
 ],
 "metadata": {
  "kernelspec": {
   "display_name": "Python 3",
   "language": "python",
   "name": "python3"
  },
  "language_info": {
   "codemirror_mode": {
    "name": "ipython",
    "version": 3
   },
   "file_extension": ".py",
   "mimetype": "text/x-python",
   "name": "python",
   "nbconvert_exporter": "python",
   "pygments_lexer": "ipython3",
   "version": "3.7.4"
  }
 },
 "nbformat": 4,
 "nbformat_minor": 4
}
