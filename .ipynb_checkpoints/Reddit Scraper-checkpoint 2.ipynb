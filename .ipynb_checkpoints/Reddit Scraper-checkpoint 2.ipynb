{
 "cells": [
  {
   "cell_type": "code",
   "execution_count": 140,
   "metadata": {},
   "outputs": [],
   "source": [
    "from psaw import PushshiftAPI\n",
    "import datetime as dt\n",
    "import pandas as pd"
   ]
  },
  {
   "cell_type": "code",
   "execution_count": 194,
   "metadata": {},
   "outputs": [
    {
     "data": {
      "text/plain": [
       "(7336, 7)"
      ]
     },
     "execution_count": 194,
     "metadata": {},
     "output_type": "execute_result"
    }
   ],
   "source": [
    "end_epoch = int(dt.datetime(2020, 8, 17).timestamp())\n",
    "start_epoch = int(dt.datetime(2020, 1, 17).timestamp())\n",
    "\n",
    "data = list(api.search_submissions(after=start_epoch,\n",
    "                            before=end_epoch,\n",
    "                            subreddit='ptsd',\n",
    "                            filter=['author', 'title', 'subreddit', 'selftext', 'url'],\n",
    "                            limit=1000000))\n",
    "\n",
    "df1 = pd.DataFrame([datum.d_ for datum in data])\n",
    "df1.shape"
   ]
  },
  {
   "cell_type": "code",
   "execution_count": 198,
   "metadata": {},
   "outputs": [],
   "source": [
    "df1.to_csv(\"ptsd.csv\")"
   ]
  },
  {
   "cell_type": "code",
   "execution_count": null,
   "metadata": {},
   "outputs": [],
   "source": []
  }
 ],
 "metadata": {
  "kernelspec": {
   "display_name": "Python 3",
   "language": "python",
   "name": "python3"
  },
  "language_info": {
   "codemirror_mode": {
    "name": "ipython",
    "version": 3
   },
   "file_extension": ".py",
   "mimetype": "text/x-python",
   "name": "python",
   "nbconvert_exporter": "python",
   "pygments_lexer": "ipython3",
   "version": "3.7.4"
  }
 },
 "nbformat": 4,
 "nbformat_minor": 4
}
