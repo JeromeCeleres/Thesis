{
 "cells": [
  {
   "cell_type": "code",
   "execution_count": 1,
   "metadata": {},
   "outputs": [],
   "source": [
    "import pickle\n",
    "import numpy as np\n",
    "import pandas as pd\n",
    "\n",
    "import matplotlib.pyplot as plt\n",
    "import matplotlib.style as style\n",
    "import seaborn as sns\n",
    "\n",
    "from nltk.corpus import stopwords\n",
    "stopwords = stopwords.words('english')\n",
    "\n",
    "from sklearn.feature_extraction.text import CountVectorizer, TfidfVectorizer\n",
    "\n",
    "from IPython.display import Image as im\n",
    "style.use('fivethirtyeight')\n",
    "\n",
    "from nltk.stem import WordNetLemmatizer \n",
    "lemmatizer = WordNetLemmatizer()"
   ]
  },
  {
   "cell_type": "code",
   "execution_count": 2,
   "metadata": {},
   "outputs": [],
   "source": [
    "stopwords.append('inquirer')\n",
    "stopwords.append('cookies')\n",
    "stopwords.append('repo')\n",
    "stopwords.append('exec')\n",
    "stopwords.append('dutee')\n",
    "stopwords.append('said')\n",
    "stopwords.append('yolanda')"
   ]
  },
  {
   "cell_type": "code",
   "execution_count": 3,
   "metadata": {},
   "outputs": [],
   "source": [
    "df = pd.read_excel('./Scraped/yolanda-narratives.xlsx')"
   ]
  },
  {
   "cell_type": "code",
   "execution_count": 4,
   "metadata": {},
   "outputs": [
    {
     "data": {
      "text/html": [
       "<div>\n",
       "<style scoped>\n",
       "    .dataframe tbody tr th:only-of-type {\n",
       "        vertical-align: middle;\n",
       "    }\n",
       "\n",
       "    .dataframe tbody tr th {\n",
       "        vertical-align: top;\n",
       "    }\n",
       "\n",
       "    .dataframe thead th {\n",
       "        text-align: right;\n",
       "    }\n",
       "</style>\n",
       "<table border=\"1\" class=\"dataframe\">\n",
       "  <thead>\n",
       "    <tr style=\"text-align: right;\">\n",
       "      <th></th>\n",
       "      <th>name</th>\n",
       "      <th>gender</th>\n",
       "      <th>occupation</th>\n",
       "      <th>municipality</th>\n",
       "      <th>province</th>\n",
       "      <th>narrative</th>\n",
       "    </tr>\n",
       "  </thead>\n",
       "  <tbody>\n",
       "    <tr>\n",
       "      <td>0</td>\n",
       "      <td>Ben Evardone</td>\n",
       "      <td>M</td>\n",
       "      <td>congressman</td>\n",
       "      <td>Borongan</td>\n",
       "      <td>Eastern Samar</td>\n",
       "      <td>Eastern Samar is gone. I really don’t know whe...</td>\n",
       "    </tr>\n",
       "    <tr>\n",
       "      <td>1</td>\n",
       "      <td>Rosario D. Merilles</td>\n",
       "      <td>F</td>\n",
       "      <td>market vendor</td>\n",
       "      <td>Guiuan</td>\n",
       "      <td>Eastern Samar</td>\n",
       "      <td>In my market stall, all of our products were d...</td>\n",
       "    </tr>\n",
       "    <tr>\n",
       "      <td>2</td>\n",
       "      <td>Elena G. Gayda</td>\n",
       "      <td>F</td>\n",
       "      <td>market vendor</td>\n",
       "      <td>Lawaan</td>\n",
       "      <td>Eastern Samar</td>\n",
       "      <td>We knew that it will be a Super Typhoon, but i...</td>\n",
       "    </tr>\n",
       "    <tr>\n",
       "      <td>3</td>\n",
       "      <td>Germi Flynn D. Garfin</td>\n",
       "      <td>M</td>\n",
       "      <td>municipal engineer</td>\n",
       "      <td>Maydolong</td>\n",
       "      <td>Eastern Samar</td>\n",
       "      <td>Compared to the wind, the rain was not that st...</td>\n",
       "    </tr>\n",
       "    <tr>\n",
       "      <td>4</td>\n",
       "      <td>Enrique A. Cabos</td>\n",
       "      <td>M</td>\n",
       "      <td>mayor</td>\n",
       "      <td>Mercedes</td>\n",
       "      <td>Eastern Samar</td>\n",
       "      <td>We thought we were prepared. We’re used to typ...</td>\n",
       "    </tr>\n",
       "  </tbody>\n",
       "</table>\n",
       "</div>"
      ],
      "text/plain": [
       "                     name gender          occupation municipality  \\\n",
       "0           Ben Evardone       M         congressman     Borongan   \n",
       "1    Rosario D. Merilles       F       market vendor      Guiuan    \n",
       "2         Elena G. Gayda       F       market vendor       Lawaan   \n",
       "3  Germi Flynn D. Garfin       M  municipal engineer    Maydolong   \n",
       "4       Enrique A. Cabos       M               mayor     Mercedes   \n",
       "\n",
       "        province                                          narrative  \n",
       "0  Eastern Samar  Eastern Samar is gone. I really don’t know whe...  \n",
       "1  Eastern Samar  In my market stall, all of our products were d...  \n",
       "2  Eastern Samar  We knew that it will be a Super Typhoon, but i...  \n",
       "3  Eastern Samar  Compared to the wind, the rain was not that st...  \n",
       "4  Eastern Samar  We thought we were prepared. We’re used to typ...  "
      ]
     },
     "execution_count": 4,
     "metadata": {},
     "output_type": "execute_result"
    }
   ],
   "source": [
    "df.head()"
   ]
  },
  {
   "cell_type": "code",
   "execution_count": 5,
   "metadata": {},
   "outputs": [
    {
     "data": {
      "text/plain": [
       "101"
      ]
     },
     "execution_count": 5,
     "metadata": {},
     "output_type": "execute_result"
    }
   ],
   "source": [
    "len(df)"
   ]
  },
  {
   "cell_type": "markdown",
   "metadata": {},
   "source": [
    "# Cleaning"
   ]
  },
  {
   "cell_type": "code",
   "execution_count": 6,
   "metadata": {},
   "outputs": [],
   "source": [
    "def clean_text(df):\n",
    "    df['cleaned_text'] = df['narrative'].fillna('')\n",
    "    df['cleaned_text'] = df['cleaned_text'].str.lower()\n",
    "    df['cleaned_text'] = df['cleaned_text'].str.replace(r'(@[A-Za-z0-9]+)|([^0-9A-Za-z \\t])|(\\w+:\\/\\/\\S+)|rt|\\d+', '')\n",
    "    df['cleaned_text'] = df['cleaned_text'].str.replace(r'^\\s+|\\s+$', '') \n",
    "    df['cleaned_text'] = df['cleaned_text'].apply(lambda x: ' '.join([w for w in x.split() if w not in (stopwords)]))\n",
    "    df['cleaned_split'] = df['cleaned_text'].apply(lambda x: x.split())\n",
    "    return df"
   ]
  },
  {
   "cell_type": "code",
   "execution_count": 7,
   "metadata": {},
   "outputs": [],
   "source": [
    "def lemmatize_df(df):\n",
    "    df['lemmatized'] = df['cleaned_split'].apply(lambda x : [lemmatizer.lemmatize(word) for word in x])\n",
    "    return df"
   ]
  },
  {
   "cell_type": "code",
   "execution_count": 8,
   "metadata": {},
   "outputs": [],
   "source": [
    "df = clean_text(df)\n",
    "df = lemmatize_df(df)"
   ]
  },
  {
   "cell_type": "code",
   "execution_count": 9,
   "metadata": {},
   "outputs": [
    {
     "data": {
      "text/html": [
       "<div>\n",
       "<style scoped>\n",
       "    .dataframe tbody tr th:only-of-type {\n",
       "        vertical-align: middle;\n",
       "    }\n",
       "\n",
       "    .dataframe tbody tr th {\n",
       "        vertical-align: top;\n",
       "    }\n",
       "\n",
       "    .dataframe thead th {\n",
       "        text-align: right;\n",
       "    }\n",
       "</style>\n",
       "<table border=\"1\" class=\"dataframe\">\n",
       "  <thead>\n",
       "    <tr style=\"text-align: right;\">\n",
       "      <th></th>\n",
       "      <th>name</th>\n",
       "      <th>gender</th>\n",
       "      <th>occupation</th>\n",
       "      <th>municipality</th>\n",
       "      <th>province</th>\n",
       "      <th>narrative</th>\n",
       "      <th>cleaned_text</th>\n",
       "      <th>cleaned_split</th>\n",
       "      <th>lemmatized</th>\n",
       "    </tr>\n",
       "  </thead>\n",
       "  <tbody>\n",
       "    <tr>\n",
       "      <td>0</td>\n",
       "      <td>Ben Evardone</td>\n",
       "      <td>M</td>\n",
       "      <td>congressman</td>\n",
       "      <td>Borongan</td>\n",
       "      <td>Eastern Samar</td>\n",
       "      <td>Eastern Samar is gone. I really don’t know whe...</td>\n",
       "      <td>eastern samar gone really dont know sta cannot...</td>\n",
       "      <td>[eastern, samar, gone, really, dont, know, sta...</td>\n",
       "      <td>[eastern, samar, gone, really, dont, know, sta...</td>\n",
       "    </tr>\n",
       "    <tr>\n",
       "      <td>1</td>\n",
       "      <td>Rosario D. Merilles</td>\n",
       "      <td>F</td>\n",
       "      <td>market vendor</td>\n",
       "      <td>Guiuan</td>\n",
       "      <td>Eastern Samar</td>\n",
       "      <td>In my market stall, all of our products were d...</td>\n",
       "      <td>market stall products damaged washed debris ma...</td>\n",
       "      <td>[market, stall, products, damaged, washed, deb...</td>\n",
       "      <td>[market, stall, product, damaged, washed, debr...</td>\n",
       "    </tr>\n",
       "    <tr>\n",
       "      <td>2</td>\n",
       "      <td>Elena G. Gayda</td>\n",
       "      <td>F</td>\n",
       "      <td>market vendor</td>\n",
       "      <td>Lawaan</td>\n",
       "      <td>Eastern Samar</td>\n",
       "      <td>We knew that it will be a Super Typhoon, but i...</td>\n",
       "      <td>knew super typhoon strength really took us sur...</td>\n",
       "      <td>[knew, super, typhoon, strength, really, took,...</td>\n",
       "      <td>[knew, super, typhoon, strength, really, took,...</td>\n",
       "    </tr>\n",
       "    <tr>\n",
       "      <td>3</td>\n",
       "      <td>Germi Flynn D. Garfin</td>\n",
       "      <td>M</td>\n",
       "      <td>municipal engineer</td>\n",
       "      <td>Maydolong</td>\n",
       "      <td>Eastern Samar</td>\n",
       "      <td>Compared to the wind, the rain was not that st...</td>\n",
       "      <td>compared wind rain strong staed whistle became...</td>\n",
       "      <td>[compared, wind, rain, strong, staed, whistle,...</td>\n",
       "      <td>[compared, wind, rain, strong, staed, whistle,...</td>\n",
       "    </tr>\n",
       "    <tr>\n",
       "      <td>4</td>\n",
       "      <td>Enrique A. Cabos</td>\n",
       "      <td>M</td>\n",
       "      <td>mayor</td>\n",
       "      <td>Mercedes</td>\n",
       "      <td>Eastern Samar</td>\n",
       "      <td>We thought we were prepared. We’re used to typ...</td>\n",
       "      <td>thought prepared used typhoons know feel surro...</td>\n",
       "      <td>[thought, prepared, used, typhoons, know, feel...</td>\n",
       "      <td>[thought, prepared, used, typhoon, know, feel,...</td>\n",
       "    </tr>\n",
       "  </tbody>\n",
       "</table>\n",
       "</div>"
      ],
      "text/plain": [
       "                     name gender          occupation municipality  \\\n",
       "0           Ben Evardone       M         congressman     Borongan   \n",
       "1    Rosario D. Merilles       F       market vendor      Guiuan    \n",
       "2         Elena G. Gayda       F       market vendor       Lawaan   \n",
       "3  Germi Flynn D. Garfin       M  municipal engineer    Maydolong   \n",
       "4       Enrique A. Cabos       M               mayor     Mercedes   \n",
       "\n",
       "        province                                          narrative  \\\n",
       "0  Eastern Samar  Eastern Samar is gone. I really don’t know whe...   \n",
       "1  Eastern Samar  In my market stall, all of our products were d...   \n",
       "2  Eastern Samar  We knew that it will be a Super Typhoon, but i...   \n",
       "3  Eastern Samar  Compared to the wind, the rain was not that st...   \n",
       "4  Eastern Samar  We thought we were prepared. We’re used to typ...   \n",
       "\n",
       "                                        cleaned_text  \\\n",
       "0  eastern samar gone really dont know sta cannot...   \n",
       "1  market stall products damaged washed debris ma...   \n",
       "2  knew super typhoon strength really took us sur...   \n",
       "3  compared wind rain strong staed whistle became...   \n",
       "4  thought prepared used typhoons know feel surro...   \n",
       "\n",
       "                                       cleaned_split  \\\n",
       "0  [eastern, samar, gone, really, dont, know, sta...   \n",
       "1  [market, stall, products, damaged, washed, deb...   \n",
       "2  [knew, super, typhoon, strength, really, took,...   \n",
       "3  [compared, wind, rain, strong, staed, whistle,...   \n",
       "4  [thought, prepared, used, typhoons, know, feel...   \n",
       "\n",
       "                                          lemmatized  \n",
       "0  [eastern, samar, gone, really, dont, know, sta...  \n",
       "1  [market, stall, product, damaged, washed, debr...  \n",
       "2  [knew, super, typhoon, strength, really, took,...  \n",
       "3  [compared, wind, rain, strong, staed, whistle,...  \n",
       "4  [thought, prepared, used, typhoon, know, feel,...  "
      ]
     },
     "execution_count": 9,
     "metadata": {},
     "output_type": "execute_result"
    }
   ],
   "source": [
    "df.head()"
   ]
  },
  {
   "cell_type": "code",
   "execution_count": 10,
   "metadata": {},
   "outputs": [
    {
     "data": {
      "text/plain": [
       "101"
      ]
     },
     "execution_count": 10,
     "metadata": {},
     "output_type": "execute_result"
    }
   ],
   "source": [
    "len(df)"
   ]
  },
  {
   "cell_type": "markdown",
   "metadata": {},
   "source": [
    "# Analysis"
   ]
  },
  {
   "cell_type": "code",
   "execution_count": 11,
   "metadata": {},
   "outputs": [],
   "source": [
    "def tweets_to_dtm(tweets):\n",
    "    tweets = tweets['cleaned_text']\n",
    "    vectorizer = CountVectorizer(max_features=2000)\n",
    "    dtm = vectorizer.fit_transform(tweets)\n",
    "    pickle.dump(vectorizer, open('out/dtm.pk', 'wb'))\n",
    "    return dtm, vectorizer\n",
    "\n",
    "def tweets_to_ngram(tweets, n=2):\n",
    "    tweets = tweets['cleaned_text']\n",
    "    vectorizer = CountVectorizer(\n",
    "        ngram_range=(n, n),\n",
    "        token_pattern=r'\\b\\w+\\b',\n",
    "        min_df=1,\n",
    "        max_features=2000)\n",
    "    dtm = vectorizer.fit_transform(tweets)\n",
    "    pickle.dump(vectorizer, open('out/ngram.pk', 'wb'))\n",
    "    return dtm, vectorizer\n",
    "\n",
    "def tweets_to_tfidf(tweets):\n",
    "    tweets = tweets['cleaned_text']\n",
    "    vectorizer = TfidfVectorizer(max_features=2000)\n",
    "    tfidf = vectorizer.fit_transform(tweets)\n",
    "    pickle.dump(vectorizer, open('out/tfidf.pk', 'wb'))\n",
    "    return tfidf, vectorizer"
   ]
  },
  {
   "cell_type": "code",
   "execution_count": 12,
   "metadata": {},
   "outputs": [
    {
     "name": "stdout",
     "output_type": "stream",
     "text": [
      "TFIDF matrix shape: (101, 2000)\n"
     ]
    },
    {
     "data": {
      "text/plain": [
       "[('eastern', 525),\n",
       " ('samar', 1394),\n",
       " ('gone', 715),\n",
       " ('really', 1230),\n",
       " ('dont', 493)]"
      ]
     },
     "execution_count": 12,
     "metadata": {},
     "output_type": "execute_result"
    }
   ],
   "source": [
    "# Get TFIDF matrix\n",
    "tfidf, tfidf_v = tweets_to_tfidf(df)\n",
    "print('TFIDF matrix shape:', tfidf.toarray().shape)\n",
    "list(tfidf_v.vocabulary_.items())[0:5]"
   ]
  },
  {
   "cell_type": "code",
   "execution_count": 13,
   "metadata": {},
   "outputs": [],
   "source": [
    "def vector_to_frequency(vector, vectorizer):\n",
    "    \"\"\"\n",
    "    Return a list of words and their corresponding occurence in the corpus\n",
    "    \"\"\"\n",
    "    total = vector.sum(axis=0)\n",
    "    frequency = [(w, total[0, i]) for w, i in vectorizer.vocabulary_.items()]\n",
    "    frequency = pd.DataFrame(frequency, columns=['term', 'frequency'])\n",
    "    frequency = frequency.sort_values(by='frequency', ascending=False).reset_index(drop=True)\n",
    "    return frequency"
   ]
  },
  {
   "cell_type": "code",
   "execution_count": 14,
   "metadata": {},
   "outputs": [
    {
     "data": {
      "text/html": [
       "<div>\n",
       "<style scoped>\n",
       "    .dataframe tbody tr th:only-of-type {\n",
       "        vertical-align: middle;\n",
       "    }\n",
       "\n",
       "    .dataframe tbody tr th {\n",
       "        vertical-align: top;\n",
       "    }\n",
       "\n",
       "    .dataframe thead th {\n",
       "        text-align: right;\n",
       "    }\n",
       "</style>\n",
       "<table border=\"1\" class=\"dataframe\">\n",
       "  <thead>\n",
       "    <tr style=\"text-align: right;\">\n",
       "      <th></th>\n",
       "      <th>term</th>\n",
       "      <th>frequency</th>\n",
       "    </tr>\n",
       "  </thead>\n",
       "  <tbody>\n",
       "    <tr>\n",
       "      <td>0</td>\n",
       "      <td>typhoon</td>\n",
       "      <td>4.376587</td>\n",
       "    </tr>\n",
       "    <tr>\n",
       "      <td>1</td>\n",
       "      <td>market</td>\n",
       "      <td>4.295465</td>\n",
       "    </tr>\n",
       "    <tr>\n",
       "      <td>2</td>\n",
       "      <td>damaged</td>\n",
       "      <td>3.922317</td>\n",
       "    </tr>\n",
       "    <tr>\n",
       "      <td>3</td>\n",
       "      <td>strong</td>\n",
       "      <td>3.058177</td>\n",
       "    </tr>\n",
       "    <tr>\n",
       "      <td>4</td>\n",
       "      <td>would</td>\n",
       "      <td>3.044858</td>\n",
       "    </tr>\n",
       "    <tr>\n",
       "      <td>5</td>\n",
       "      <td>house</td>\n",
       "      <td>3.013334</td>\n",
       "    </tr>\n",
       "    <tr>\n",
       "      <td>6</td>\n",
       "      <td>us</td>\n",
       "      <td>2.960860</td>\n",
       "    </tr>\n",
       "    <tr>\n",
       "      <td>7</td>\n",
       "      <td>water</td>\n",
       "      <td>2.898625</td>\n",
       "    </tr>\n",
       "    <tr>\n",
       "      <td>8</td>\n",
       "      <td>didnt</td>\n",
       "      <td>2.810633</td>\n",
       "    </tr>\n",
       "    <tr>\n",
       "      <td>9</td>\n",
       "      <td>could</td>\n",
       "      <td>2.775074</td>\n",
       "    </tr>\n",
       "    <tr>\n",
       "      <td>10</td>\n",
       "      <td>roof</td>\n",
       "      <td>2.760738</td>\n",
       "    </tr>\n",
       "    <tr>\n",
       "      <td>11</td>\n",
       "      <td>everything</td>\n",
       "      <td>2.700409</td>\n",
       "    </tr>\n",
       "    <tr>\n",
       "      <td>12</td>\n",
       "      <td>people</td>\n",
       "      <td>2.692122</td>\n",
       "    </tr>\n",
       "    <tr>\n",
       "      <td>13</td>\n",
       "      <td>like</td>\n",
       "      <td>2.562923</td>\n",
       "    </tr>\n",
       "    <tr>\n",
       "      <td>14</td>\n",
       "      <td>really</td>\n",
       "      <td>2.489589</td>\n",
       "    </tr>\n",
       "    <tr>\n",
       "      <td>15</td>\n",
       "      <td>even</td>\n",
       "      <td>2.451150</td>\n",
       "    </tr>\n",
       "    <tr>\n",
       "      <td>16</td>\n",
       "      <td>almost</td>\n",
       "      <td>2.308904</td>\n",
       "    </tr>\n",
       "    <tr>\n",
       "      <td>17</td>\n",
       "      <td>see</td>\n",
       "      <td>2.283103</td>\n",
       "    </tr>\n",
       "    <tr>\n",
       "      <td>18</td>\n",
       "      <td>time</td>\n",
       "      <td>2.278420</td>\n",
       "    </tr>\n",
       "    <tr>\n",
       "      <td>19</td>\n",
       "      <td>home</td>\n",
       "      <td>2.274752</td>\n",
       "    </tr>\n",
       "  </tbody>\n",
       "</table>\n",
       "</div>"
      ],
      "text/plain": [
       "          term  frequency\n",
       "0      typhoon   4.376587\n",
       "1       market   4.295465\n",
       "2      damaged   3.922317\n",
       "3       strong   3.058177\n",
       "4        would   3.044858\n",
       "5        house   3.013334\n",
       "6           us   2.960860\n",
       "7        water   2.898625\n",
       "8        didnt   2.810633\n",
       "9        could   2.775074\n",
       "10        roof   2.760738\n",
       "11  everything   2.700409\n",
       "12      people   2.692122\n",
       "13        like   2.562923\n",
       "14      really   2.489589\n",
       "15        even   2.451150\n",
       "16      almost   2.308904\n",
       "17         see   2.283103\n",
       "18        time   2.278420\n",
       "19        home   2.274752"
      ]
     },
     "execution_count": 14,
     "metadata": {},
     "output_type": "execute_result"
    }
   ],
   "source": [
    "freq_tfidf = vector_to_frequency(tfidf, tfidf_v)\n",
    "freq_tfidf.to_csv('out/frequency_tfidf.csv', index=False)\n",
    "freq_tfidf.head(20)"
   ]
  },
  {
   "cell_type": "code",
   "execution_count": 15,
   "metadata": {},
   "outputs": [
    {
     "data": {
      "text/plain": [
       "Text(0.5, 1.0, 'Frequent terms in TFIDF')"
      ]
     },
     "execution_count": 15,
     "metadata": {},
     "output_type": "execute_result"
    },
    {
     "data": {
      "image/png": "[encoded data removed]",
      "text/plain": [
       "<Figure size 432x288 with 1 Axes>"
      ]
     },
     "metadata": {
      "needs_background": "light"
     },
     "output_type": "display_data"
    }
   ],
   "source": [
    "# Visualize frequencies\n",
    "sns.barplot(data=freq_tfidf.head(20), x='frequency',\n",
    "            y='term').set_title('Frequent terms in TFIDF')"
   ]
  },
  {
   "cell_type": "code",
   "execution_count": 16,
   "metadata": {},
   "outputs": [],
   "source": [
    "df['label'] = 'disaster'"
   ]
  },
  {
   "cell_type": "code",
   "execution_count": 17,
   "metadata": {},
   "outputs": [
    {
     "data": {
      "text/html": [
       "<div>\n",
       "<style scoped>\n",
       "    .dataframe tbody tr th:only-of-type {\n",
       "        vertical-align: middle;\n",
       "    }\n",
       "\n",
       "    .dataframe tbody tr th {\n",
       "        vertical-align: top;\n",
       "    }\n",
       "\n",
       "    .dataframe thead th {\n",
       "        text-align: right;\n",
       "    }\n",
       "</style>\n",
       "<table border=\"1\" class=\"dataframe\">\n",
       "  <thead>\n",
       "    <tr style=\"text-align: right;\">\n",
       "      <th></th>\n",
       "      <th>name</th>\n",
       "      <th>gender</th>\n",
       "      <th>occupation</th>\n",
       "      <th>municipality</th>\n",
       "      <th>province</th>\n",
       "      <th>narrative</th>\n",
       "      <th>cleaned_text</th>\n",
       "      <th>cleaned_split</th>\n",
       "      <th>lemmatized</th>\n",
       "      <th>label</th>\n",
       "    </tr>\n",
       "  </thead>\n",
       "  <tbody>\n",
       "    <tr>\n",
       "      <td>0</td>\n",
       "      <td>Ben Evardone</td>\n",
       "      <td>M</td>\n",
       "      <td>congressman</td>\n",
       "      <td>Borongan</td>\n",
       "      <td>Eastern Samar</td>\n",
       "      <td>Eastern Samar is gone. I really don’t know whe...</td>\n",
       "      <td>eastern samar gone really dont know sta cannot...</td>\n",
       "      <td>[eastern, samar, gone, really, dont, know, sta...</td>\n",
       "      <td>[eastern, samar, gone, really, dont, know, sta...</td>\n",
       "      <td>disaster</td>\n",
       "    </tr>\n",
       "    <tr>\n",
       "      <td>1</td>\n",
       "      <td>Rosario D. Merilles</td>\n",
       "      <td>F</td>\n",
       "      <td>market vendor</td>\n",
       "      <td>Guiuan</td>\n",
       "      <td>Eastern Samar</td>\n",
       "      <td>In my market stall, all of our products were d...</td>\n",
       "      <td>market stall products damaged washed debris ma...</td>\n",
       "      <td>[market, stall, products, damaged, washed, deb...</td>\n",
       "      <td>[market, stall, product, damaged, washed, debr...</td>\n",
       "      <td>disaster</td>\n",
       "    </tr>\n",
       "    <tr>\n",
       "      <td>2</td>\n",
       "      <td>Elena G. Gayda</td>\n",
       "      <td>F</td>\n",
       "      <td>market vendor</td>\n",
       "      <td>Lawaan</td>\n",
       "      <td>Eastern Samar</td>\n",
       "      <td>We knew that it will be a Super Typhoon, but i...</td>\n",
       "      <td>knew super typhoon strength really took us sur...</td>\n",
       "      <td>[knew, super, typhoon, strength, really, took,...</td>\n",
       "      <td>[knew, super, typhoon, strength, really, took,...</td>\n",
       "      <td>disaster</td>\n",
       "    </tr>\n",
       "    <tr>\n",
       "      <td>3</td>\n",
       "      <td>Germi Flynn D. Garfin</td>\n",
       "      <td>M</td>\n",
       "      <td>municipal engineer</td>\n",
       "      <td>Maydolong</td>\n",
       "      <td>Eastern Samar</td>\n",
       "      <td>Compared to the wind, the rain was not that st...</td>\n",
       "      <td>compared wind rain strong staed whistle became...</td>\n",
       "      <td>[compared, wind, rain, strong, staed, whistle,...</td>\n",
       "      <td>[compared, wind, rain, strong, staed, whistle,...</td>\n",
       "      <td>disaster</td>\n",
       "    </tr>\n",
       "    <tr>\n",
       "      <td>4</td>\n",
       "      <td>Enrique A. Cabos</td>\n",
       "      <td>M</td>\n",
       "      <td>mayor</td>\n",
       "      <td>Mercedes</td>\n",
       "      <td>Eastern Samar</td>\n",
       "      <td>We thought we were prepared. We’re used to typ...</td>\n",
       "      <td>thought prepared used typhoons know feel surro...</td>\n",
       "      <td>[thought, prepared, used, typhoons, know, feel...</td>\n",
       "      <td>[thought, prepared, used, typhoon, know, feel,...</td>\n",
       "      <td>disaster</td>\n",
       "    </tr>\n",
       "  </tbody>\n",
       "</table>\n",
       "</div>"
      ],
      "text/plain": [
       "                     name gender          occupation municipality  \\\n",
       "0           Ben Evardone       M         congressman     Borongan   \n",
       "1    Rosario D. Merilles       F       market vendor      Guiuan    \n",
       "2         Elena G. Gayda       F       market vendor       Lawaan   \n",
       "3  Germi Flynn D. Garfin       M  municipal engineer    Maydolong   \n",
       "4       Enrique A. Cabos       M               mayor     Mercedes   \n",
       "\n",
       "        province                                          narrative  \\\n",
       "0  Eastern Samar  Eastern Samar is gone. I really don’t know whe...   \n",
       "1  Eastern Samar  In my market stall, all of our products were d...   \n",
       "2  Eastern Samar  We knew that it will be a Super Typhoon, but i...   \n",
       "3  Eastern Samar  Compared to the wind, the rain was not that st...   \n",
       "4  Eastern Samar  We thought we were prepared. We’re used to typ...   \n",
       "\n",
       "                                        cleaned_text  \\\n",
       "0  eastern samar gone really dont know sta cannot...   \n",
       "1  market stall products damaged washed debris ma...   \n",
       "2  knew super typhoon strength really took us sur...   \n",
       "3  compared wind rain strong staed whistle became...   \n",
       "4  thought prepared used typhoons know feel surro...   \n",
       "\n",
       "                                       cleaned_split  \\\n",
       "0  [eastern, samar, gone, really, dont, know, sta...   \n",
       "1  [market, stall, products, damaged, washed, deb...   \n",
       "2  [knew, super, typhoon, strength, really, took,...   \n",
       "3  [compared, wind, rain, strong, staed, whistle,...   \n",
       "4  [thought, prepared, used, typhoons, know, feel...   \n",
       "\n",
       "                                          lemmatized     label  \n",
       "0  [eastern, samar, gone, really, dont, know, sta...  disaster  \n",
       "1  [market, stall, product, damaged, washed, debr...  disaster  \n",
       "2  [knew, super, typhoon, strength, really, took,...  disaster  \n",
       "3  [compared, wind, rain, strong, staed, whistle,...  disaster  \n",
       "4  [thought, prepared, used, typhoon, know, feel,...  disaster  "
      ]
     },
     "execution_count": 17,
     "metadata": {},
     "output_type": "execute_result"
    }
   ],
   "source": [
    "df.head()"
   ]
  },
  {
   "cell_type": "code",
   "execution_count": 18,
   "metadata": {},
   "outputs": [],
   "source": [
    "df.to_pickle('./Cleaned/disaster_cleaned.pkl')"
   ]
  },
  {
   "cell_type": "code",
   "execution_count": null,
   "metadata": {},
   "outputs": [],
   "source": []
  },
  {
   "cell_type": "code",
   "execution_count": null,
   "metadata": {},
   "outputs": [],
   "source": []
  }
 ],
 "metadata": {
  "kernelspec": {
   "display_name": "Python 3",
   "language": "python",
   "name": "python3"
  },
  "language_info": {
   "codemirror_mode": {
    "name": "ipython",
    "version": 3
   },
   "file_extension": ".py",
   "mimetype": "text/x-python",
   "name": "python",
   "nbconvert_exporter": "python",
   "pygments_lexer": "ipython3",
   "version": "3.7.4"
  }
 },
 "nbformat": 4,
 "nbformat_minor": 4
}
