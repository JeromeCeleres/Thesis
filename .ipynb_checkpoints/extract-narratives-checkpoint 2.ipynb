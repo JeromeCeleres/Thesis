{
 "cells": [
  {
   "cell_type": "code",
   "execution_count": 1,
   "metadata": {},
   "outputs": [],
   "source": [
    "from bs4 import BeautifulSoup\n",
    "import pandas as pd\n",
    "import re\n",
    "import requests"
   ]
  },
  {
   "cell_type": "code",
   "execution_count": 2,
   "metadata": {},
   "outputs": [],
   "source": [
    "def read_urls(file_name):\n",
    "    df = pd.read_csv(file_name)\n",
    "    df[['title', 'time', 'narrative']] = df.apply(_parse_and_extract, axis = 1)\n",
    "    return df"
   ]
  },
  {
   "cell_type": "code",
   "execution_count": 23,
   "metadata": {},
   "outputs": [],
   "source": [
    "def _parse_and_extract(df):\n",
    "    try:\n",
    "        url = df['url']\n",
    "        headers = {'User-Agent':'Mozilla/5.0'}\n",
    "        r = requests.get(url, headers = headers)\n",
    "        narrative_list = []\n",
    "        soup = BeautifulSoup(r.content, 'html.parser')\n",
    "\n",
    "        title = soup.find('h1').get_text()\n",
    "        time = str(soup.find(id=\"art_plat\"))\n",
    "        texts = soup.findAll('p', text=re.compile('“([^\"]*)”')) if not soup.findAll('p', text=re.compile('“([^\"]*)”')) == None else soup.findAll('p', text=re.compile('\"([^\"]*)\"'))\n",
    "        for text in texts:\n",
    "            narrative_list.append(re.findall(r'“([^\"]*)”', text.get_text()))\n",
    "        narrative = '\\n'.join(narrative_list)\n",
    "\n",
    "        return pd.Series([title, time, narrative])\n",
    "    except:\n",
    "        return pd.Series([None, None, None])"
   ]
  },
  {
   "cell_type": "code",
   "execution_count": 17,
   "metadata": {},
   "outputs": [],
   "source": [
    "df = read_urls('raw-inquirer-1.csv')"
   ]
  },
  {
   "cell_type": "code",
   "execution_count": 18,
   "metadata": {},
   "outputs": [
    {
     "data": {
      "text/html": [
       "<div>\n",
       "<style scoped>\n",
       "    .dataframe tbody tr th:only-of-type {\n",
       "        vertical-align: middle;\n",
       "    }\n",
       "\n",
       "    .dataframe tbody tr th {\n",
       "        vertical-align: top;\n",
       "    }\n",
       "\n",
       "    .dataframe thead th {\n",
       "        text-align: right;\n",
       "    }\n",
       "</style>\n",
       "<table border=\"1\" class=\"dataframe\">\n",
       "  <thead>\n",
       "    <tr style=\"text-align: right;\">\n",
       "      <th></th>\n",
       "      <th>url</th>\n",
       "      <th>title</th>\n",
       "      <th>time</th>\n",
       "      <th>narrative</th>\n",
       "    </tr>\n",
       "  </thead>\n",
       "  <tbody>\n",
       "    <tr>\n",
       "      <th>0</th>\n",
       "      <td>https://newsinfo.inquirer.net/1198980/icc-upda...</td>\n",
       "      <td>None</td>\n",
       "      <td>None</td>\n",
       "      <td>None</td>\n",
       "    </tr>\n",
       "    <tr>\n",
       "      <th>1</th>\n",
       "      <td>https://newsinfo.inquirer.net/1210965/46-slain...</td>\n",
       "      <td>None</td>\n",
       "      <td>None</td>\n",
       "      <td>None</td>\n",
       "    </tr>\n",
       "    <tr>\n",
       "      <th>2</th>\n",
       "      <td>https://newsinfo.inquirer.net/1276004/drug-war...</td>\n",
       "      <td>None</td>\n",
       "      <td>None</td>\n",
       "      <td>None</td>\n",
       "    </tr>\n",
       "    <tr>\n",
       "      <th>3</th>\n",
       "      <td>https://newsinfo.inquirer.net/1008295/killings...</td>\n",
       "      <td>None</td>\n",
       "      <td>None</td>\n",
       "      <td>None</td>\n",
       "    </tr>\n",
       "    <tr>\n",
       "      <th>4</th>\n",
       "      <td>https://newsinfo.inquirer.net/1043822/soccsksa...</td>\n",
       "      <td>None</td>\n",
       "      <td>None</td>\n",
       "      <td>None</td>\n",
       "    </tr>\n",
       "  </tbody>\n",
       "</table>\n",
       "</div>"
      ],
      "text/plain": [
       "                                                 url title  time narrative\n",
       "0  https://newsinfo.inquirer.net/1198980/icc-upda...  None  None      None\n",
       "1  https://newsinfo.inquirer.net/1210965/46-slain...  None  None      None\n",
       "2  https://newsinfo.inquirer.net/1276004/drug-war...  None  None      None\n",
       "3  https://newsinfo.inquirer.net/1008295/killings...  None  None      None\n",
       "4  https://newsinfo.inquirer.net/1043822/soccsksa...  None  None      None"
      ]
     },
     "execution_count": 18,
     "metadata": {},
     "output_type": "execute_result"
    }
   ],
   "source": [
    "df.head()"
   ]
  },
  {
   "cell_type": "code",
   "execution_count": 19,
   "metadata": {},
   "outputs": [],
   "source": [
    "df.to_csv(\"output.csv\", index=False)"
   ]
  },
  {
   "cell_type": "code",
   "execution_count": 24,
   "metadata": {},
   "outputs": [],
   "source": [
    "sample = _parse_and_extract('https://newsinfo.inquirer.net/1198980/icc-update-gives-glimmer-of-hope-for-ejk-victims-kin')"
   ]
  },
  {
   "cell_type": "code",
   "execution_count": 25,
   "metadata": {},
   "outputs": [
    {
     "name": "stdout",
     "output_type": "stream",
     "text": [
      "0    None\n",
      "1    None\n",
      "2    None\n",
      "dtype: object\n"
     ]
    }
   ],
   "source": [
    "print(sample)"
   ]
  },
  {
   "cell_type": "code",
   "execution_count": null,
   "metadata": {},
   "outputs": [],
   "source": []
  }
 ],
 "metadata": {
  "kernelspec": {
   "display_name": "Python 3",
   "language": "python",
   "name": "python3"
  },
  "language_info": {
   "codemirror_mode": {
    "name": "ipython",
    "version": 3
   },
   "file_extension": ".py",
   "mimetype": "text/x-python",
   "name": "python",
   "nbconvert_exporter": "python",
   "pygments_lexer": "ipython3",
   "version": "3.7.3"
  }
 },
 "nbformat": 4,
 "nbformat_minor": 4
}
