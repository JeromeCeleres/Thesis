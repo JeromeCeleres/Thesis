{
 "cells": [
  {
   "cell_type": "code",
   "execution_count": 40,
   "metadata": {},
   "outputs": [],
   "source": [
    "import pickle\n",
    "import numpy as np\n",
    "import pandas as pd\n",
    "import matplotlib.pyplot as plt\n",
    "import matplotlib.style as style\n",
    "import seaborn as sns\n",
    "from nltk.corpus import stopwords\n",
    "from textblob import TextBlob as tb\n",
    "from sklearn.feature_extraction.text import CountVectorizer, TfidfVectorizer\n",
    "stopwords = stopwords.words('english')\n",
    "from IPython.display import Image as im\n",
    "style.use('fivethirtyeight')"
   ]
  },
  {
   "cell_type": "code",
   "execution_count": 26,
   "metadata": {},
   "outputs": [],
   "source": [
    "stopwords.append('inquirer')"
   ]
  },
  {
   "cell_type": "code",
   "execution_count": 27,
   "metadata": {},
   "outputs": [],
   "source": [
    "df = pd.read_csv('./Scraped/ejks.csv')"
   ]
  },
  {
   "cell_type": "markdown",
   "metadata": {},
   "source": [
    "# Analysis"
   ]
  },
  {
   "cell_type": "code",
   "execution_count": 28,
   "metadata": {},
   "outputs": [],
   "source": [
    "def clean_text(df):\n",
    "    df['cleaned_text'] = df['narrative'].fillna('')\n",
    "    df['cleaned_text'] = df['cleaned_text'].str.lower()\n",
    "    df['cleaned_text'] = df['cleaned_text'].str.replace(r'(@[A-Za-z0-9]+)|([^0-9A-Za-z \\t])|(\\w+:\\/\\/\\S+)|rt|\\d+', '')\n",
    "    df['cleaned_text'] = df['cleaned_text'].str.replace(r'^\\s+|\\s+$', '') \n",
    "    df['cleaned_text'] = df['cleaned_text'].apply(lambda x: ' '.join([w for w in x.split() if w not in (stopwords)]))\n",
    "    return df"
   ]
  },
  {
   "cell_type": "code",
   "execution_count": 29,
   "metadata": {},
   "outputs": [],
   "source": [
    "df_cleaned = clean_text(df)"
   ]
  },
  {
   "cell_type": "code",
   "execution_count": 30,
   "metadata": {},
   "outputs": [],
   "source": [
    "def tweets_to_dtm(tweets):\n",
    "    tweets = tweets['cleaned_text']\n",
    "    vectorizer = CountVectorizer(max_features=2000)\n",
    "    dtm = vectorizer.fit_transform(tweets)\n",
    "    pickle.dump(vectorizer, open('out/dtm.pk', 'wb'))\n",
    "    return dtm, vectorizer\n",
    "\n",
    "def tweets_to_ngram(tweets, n=2):\n",
    "    tweets = tweets['cleaned_text']\n",
    "    vectorizer = CountVectorizer(\n",
    "        ngram_range=(n, n),\n",
    "        token_pattern=r'\\b\\w+\\b',\n",
    "        min_df=1,\n",
    "        max_features=2000)\n",
    "    dtm = vectorizer.fit_transform(tweets)\n",
    "    pickle.dump(vectorizer, open('out/ngram.pk', 'wb'))\n",
    "    return dtm, vectorizer\n",
    "\n",
    "def tweets_to_tfidf(tweets):\n",
    "    tweets = tweets['cleaned_text']\n",
    "    vectorizer = TfidfVectorizer(max_features=2000)\n",
    "    tfidf = vectorizer.fit_transform(tweets)\n",
    "    pickle.dump(vectorizer, open('out/tfidf.pk', 'wb'))\n",
    "    return tfidf, vectorizer"
   ]
  },
  {
   "cell_type": "code",
   "execution_count": 31,
   "metadata": {},
   "outputs": [
    {
     "name": "stdout",
     "output_type": "stream",
     "text": [
      "TFIDF matrix shape: (371, 2000)\n"
     ]
    },
    {
     "data": {
      "text/plain": [
       "[('grief', 739),\n",
       " ('families', 630),\n",
       " ('poor', 1349),\n",
       " ('communities', 359),\n",
       " ('lost', 1021)]"
      ]
     },
     "execution_count": 31,
     "metadata": {},
     "output_type": "execute_result"
    }
   ],
   "source": [
    "# Get TFIDF matrix\n",
    "tfidf, tfidf_v = tweets_to_tfidf(df_cleaned)\n",
    "print('TFIDF matrix shape:', tfidf.toarray().shape)\n",
    "list(tfidf_v.vocabulary_.items())[0:5]"
   ]
  },
  {
   "cell_type": "code",
   "execution_count": 32,
   "metadata": {},
   "outputs": [],
   "source": [
    "def vector_to_frequency(vector, vectorizer):\n",
    "    \"\"\"\n",
    "    Return a list of words and their corresponding occurence in the corpus\n",
    "    \"\"\"\n",
    "    total = vector.sum(axis=0)\n",
    "    frequency = [(w, total[0, i]) for w, i in vectorizer.vocabulary_.items()]\n",
    "    frequency = pd.DataFrame(frequency, columns=['term', 'frequency'])\n",
    "    frequency = frequency.sort_values(by='frequency', ascending=False).reset_index(drop=True)\n",
    "    return frequency"
   ]
  },
  {
   "cell_type": "code",
   "execution_count": 38,
   "metadata": {},
   "outputs": [
    {
     "data": {
      "text/html": [
       "<div>\n",
       "<style scoped>\n",
       "    .dataframe tbody tr th:only-of-type {\n",
       "        vertical-align: middle;\n",
       "    }\n",
       "\n",
       "    .dataframe tbody tr th {\n",
       "        vertical-align: top;\n",
       "    }\n",
       "\n",
       "    .dataframe thead th {\n",
       "        text-align: right;\n",
       "    }\n",
       "</style>\n",
       "<table border=\"1\" class=\"dataframe\">\n",
       "  <thead>\n",
       "    <tr style=\"text-align: right;\">\n",
       "      <th></th>\n",
       "      <th>term</th>\n",
       "      <th>frequency</th>\n",
       "    </tr>\n",
       "  </thead>\n",
       "  <tbody>\n",
       "    <tr>\n",
       "      <td>0</td>\n",
       "      <td>said</td>\n",
       "      <td>27.475076</td>\n",
       "    </tr>\n",
       "    <tr>\n",
       "      <td>1</td>\n",
       "      <td>police</td>\n",
       "      <td>26.579544</td>\n",
       "    </tr>\n",
       "    <tr>\n",
       "      <td>2</td>\n",
       "      <td>drug</td>\n",
       "      <td>23.494225</td>\n",
       "    </tr>\n",
       "    <tr>\n",
       "      <td>3</td>\n",
       "      <td>get</td>\n",
       "      <td>14.837291</td>\n",
       "    </tr>\n",
       "    <tr>\n",
       "      <td>4</td>\n",
       "      <td>killed</td>\n",
       "      <td>14.829351</td>\n",
       "    </tr>\n",
       "  </tbody>\n",
       "</table>\n",
       "</div>"
      ],
      "text/plain": [
       "     term  frequency\n",
       "0    said  27.475076\n",
       "1  police  26.579544\n",
       "2    drug  23.494225\n",
       "3     get  14.837291\n",
       "4  killed  14.829351"
      ]
     },
     "execution_count": 38,
     "metadata": {},
     "output_type": "execute_result"
    }
   ],
   "source": [
    "freq_tfidf = vector_to_frequency(tfidf, tfidf_v)\n",
    "freq_tfidf.to_csv('out/frequency_tfidf.csv', index=False)\n",
    "freq_tfidf.head()"
   ]
  },
  {
   "cell_type": "code",
   "execution_count": 42,
   "metadata": {},
   "outputs": [
    {
     "data": {
      "text/plain": [
       "Text(0.5, 1.0, 'Frequent terms in TFIDF')"
      ]
     },
     "execution_count": 42,
     "metadata": {},
     "output_type": "execute_result"
    },
    {
     "data": {
      "image/png": "[encoded data removed]",
      "text/plain": [
       "<Figure size 432x288 with 1 Axes>"
      ]
     },
     "metadata": {},
     "output_type": "display_data"
    }
   ],
   "source": [
    "# Visualize frequencies\n",
    "sns.barplot(data=freq_tfidf.head(20), x='term',\n",
    "            y='frequency', orient='h').set_title('Frequent terms in TFIDF')"
   ]
  },
  {
   "cell_type": "code",
   "execution_count": null,
   "metadata": {},
   "outputs": [],
   "source": []
  }
 ],
 "metadata": {
  "kernelspec": {
   "display_name": "Python 3",
   "language": "python",
   "name": "python3"
  },
  "language_info": {
   "codemirror_mode": {
    "name": "ipython",
    "version": 3
   },
   "file_extension": ".py",
   "mimetype": "text/x-python",
   "name": "python",
   "nbconvert_exporter": "python",
   "pygments_lexer": "ipython3",
   "version": "3.7.4"
  }
 },
 "nbformat": 4,
 "nbformat_minor": 4
}
