{
 "cells": [
  {
   "cell_type": "code",
   "execution_count": 1,
   "metadata": {},
   "outputs": [],
   "source": [
    "import pickle\n",
    "import numpy as np\n",
    "import pandas as pd\n",
    "\n",
    "import matplotlib.pyplot as plt\n",
    "import matplotlib.style as style\n",
    "import seaborn as sns\n",
    "\n",
    "from nltk.corpus import stopwords\n",
    "stopwords = stopwords.words('english')\n",
    "\n",
    "from sklearn.feature_extraction.text import CountVectorizer, TfidfVectorizer\n",
    "\n",
    "from IPython.display import Image as im\n",
    "style.use('fivethirtyeight')\n",
    "\n",
    "from nltk.stem import WordNetLemmatizer \n",
    "lemmatizer = WordNetLemmatizer()"
   ]
  },
  {
   "cell_type": "code",
   "execution_count": 2,
   "metadata": {},
   "outputs": [],
   "source": [
    "stopwords.append('inquirer')\n",
    "stopwords.append('cookies')\n",
    "stopwords.append('repo')\n",
    "stopwords.append('exec')\n",
    "stopwords.append('dutee')\n",
    "stopwords.append('said')\n",
    "stopwords.append('yolanda')"
   ]
  },
  {
   "cell_type": "code",
   "execution_count": 3,
   "metadata": {},
   "outputs": [],
   "source": [
    "df = pd.read_excel('./Scraped/questionnaires.xlsx')"
   ]
  },
  {
   "cell_type": "code",
   "execution_count": 4,
   "metadata": {},
   "outputs": [
    {
     "data": {
      "text/html": [
       "<div>\n",
       "<style scoped>\n",
       "    .dataframe tbody tr th:only-of-type {\n",
       "        vertical-align: middle;\n",
       "    }\n",
       "\n",
       "    .dataframe tbody tr th {\n",
       "        vertical-align: top;\n",
       "    }\n",
       "\n",
       "    .dataframe thead th {\n",
       "        text-align: right;\n",
       "    }\n",
       "</style>\n",
       "<table border=\"1\" class=\"dataframe\">\n",
       "  <thead>\n",
       "    <tr style=\"text-align: right;\">\n",
       "      <th></th>\n",
       "      <th>questionnaire name</th>\n",
       "      <th>content</th>\n",
       "    </tr>\n",
       "  </thead>\n",
       "  <tbody>\n",
       "    <tr>\n",
       "      <td>0</td>\n",
       "      <td>Burn's Depression Checklist</td>\n",
       "      <td>Feeling sad or down in the dumps\\nFeeling unha...</td>\n",
       "    </tr>\n",
       "    <tr>\n",
       "      <td>1</td>\n",
       "      <td>Patient Health Questionnaire (PHQ-9)</td>\n",
       "      <td>Little interest or pleasure in doing things\\nF...</td>\n",
       "    </tr>\n",
       "    <tr>\n",
       "      <td>2</td>\n",
       "      <td>Beck's Depression Inventory</td>\n",
       "      <td>I do not feel sad.\\nI feel sad\\nI am sad all t...</td>\n",
       "    </tr>\n",
       "    <tr>\n",
       "      <td>3</td>\n",
       "      <td>Personal Inventory for Depression and SAD Self...</td>\n",
       "      <td>Were there two weeks or more . . .\\nwhen you h...</td>\n",
       "    </tr>\n",
       "    <tr>\n",
       "      <td>4</td>\n",
       "      <td>Center for Epidemiologic Studies Depression Scale</td>\n",
       "      <td>I was bothered by things that usually don’t bo...</td>\n",
       "    </tr>\n",
       "  </tbody>\n",
       "</table>\n",
       "</div>"
      ],
      "text/plain": [
       "                                  questionnaire name  \\\n",
       "0                        Burn's Depression Checklist   \n",
       "1               Patient Health Questionnaire (PHQ-9)   \n",
       "2                        Beck's Depression Inventory   \n",
       "3  Personal Inventory for Depression and SAD Self...   \n",
       "4  Center for Epidemiologic Studies Depression Scale   \n",
       "\n",
       "                                             content  \n",
       "0  Feeling sad or down in the dumps\\nFeeling unha...  \n",
       "1  Little interest or pleasure in doing things\\nF...  \n",
       "2  I do not feel sad.\\nI feel sad\\nI am sad all t...  \n",
       "3  Were there two weeks or more . . .\\nwhen you h...  \n",
       "4  I was bothered by things that usually don’t bo...  "
      ]
     },
     "execution_count": 4,
     "metadata": {},
     "output_type": "execute_result"
    }
   ],
   "source": [
    "df.head()"
   ]
  },
  {
   "cell_type": "code",
   "execution_count": 5,
   "metadata": {},
   "outputs": [
    {
     "data": {
      "text/plain": [
       "5"
      ]
     },
     "execution_count": 5,
     "metadata": {},
     "output_type": "execute_result"
    }
   ],
   "source": [
    "len(df)"
   ]
  },
  {
   "cell_type": "markdown",
   "metadata": {},
   "source": [
    "# Cleaning"
   ]
  },
  {
   "cell_type": "code",
   "execution_count": 6,
   "metadata": {},
   "outputs": [],
   "source": [
    "def clean_text(df):\n",
    "    df['cleaned_text'] = df['content'].fillna('')\n",
    "    df['cleaned_text'] = df['cleaned_text'].str.lower()\n",
    "    df['cleaned_text'] = df['cleaned_text'].str.replace(r'(@[A-Za-z0-9]+)|([^0-9A-Za-z \\t])|(\\w+:\\/\\/\\S+)|rt|\\d+', '')\n",
    "    df['cleaned_text'] = df['cleaned_text'].str.replace(r'^\\s+|\\s+$', '') \n",
    "    df['cleaned_text'] = df['cleaned_text'].apply(lambda x: ' '.join([w for w in x.split() if w not in (stopwords)]))\n",
    "    df['cleaned_split'] = df['cleaned_text'].apply(lambda x: x.split())\n",
    "    return df"
   ]
  },
  {
   "cell_type": "code",
   "execution_count": 7,
   "metadata": {},
   "outputs": [],
   "source": [
    "def lemmatize_df(df):\n",
    "    df['lemmatized'] = df['cleaned_split'].apply(lambda x : [lemmatizer.lemmatize(word) for word in x])\n",
    "    return df"
   ]
  },
  {
   "cell_type": "code",
   "execution_count": 8,
   "metadata": {},
   "outputs": [],
   "source": [
    "df = clean_text(df)\n",
    "df = lemmatize_df(df)"
   ]
  },
  {
   "cell_type": "code",
   "execution_count": 9,
   "metadata": {},
   "outputs": [
    {
     "data": {
      "text/html": [
       "<div>\n",
       "<style scoped>\n",
       "    .dataframe tbody tr th:only-of-type {\n",
       "        vertical-align: middle;\n",
       "    }\n",
       "\n",
       "    .dataframe tbody tr th {\n",
       "        vertical-align: top;\n",
       "    }\n",
       "\n",
       "    .dataframe thead th {\n",
       "        text-align: right;\n",
       "    }\n",
       "</style>\n",
       "<table border=\"1\" class=\"dataframe\">\n",
       "  <thead>\n",
       "    <tr style=\"text-align: right;\">\n",
       "      <th></th>\n",
       "      <th>questionnaire name</th>\n",
       "      <th>content</th>\n",
       "      <th>cleaned_text</th>\n",
       "      <th>cleaned_split</th>\n",
       "      <th>lemmatized</th>\n",
       "    </tr>\n",
       "  </thead>\n",
       "  <tbody>\n",
       "    <tr>\n",
       "      <td>0</td>\n",
       "      <td>Burn's Depression Checklist</td>\n",
       "      <td>Feeling sad or down in the dumps\\nFeeling unha...</td>\n",
       "      <td>feeling sad dumpsfeeling unhappy bluecrying sp...</td>\n",
       "      <td>[feeling, sad, dumpsfeeling, unhappy, bluecryi...</td>\n",
       "      <td>[feeling, sad, dumpsfeeling, unhappy, bluecryi...</td>\n",
       "    </tr>\n",
       "    <tr>\n",
       "      <td>1</td>\n",
       "      <td>Patient Health Questionnaire (PHQ-9)</td>\n",
       "      <td>Little interest or pleasure in doing things\\nF...</td>\n",
       "      <td>little interest pleasure thingsfeeling depress...</td>\n",
       "      <td>[little, interest, pleasure, thingsfeeling, de...</td>\n",
       "      <td>[little, interest, pleasure, thingsfeeling, de...</td>\n",
       "    </tr>\n",
       "    <tr>\n",
       "      <td>2</td>\n",
       "      <td>Beck's Depression Inventory</td>\n",
       "      <td>I do not feel sad.\\nI feel sad\\nI am sad all t...</td>\n",
       "      <td>feel sadi feel sadi sad time cant snap sad unh...</td>\n",
       "      <td>[feel, sadi, feel, sadi, sad, time, cant, snap...</td>\n",
       "      <td>[feel, sadi, feel, sadi, sad, time, cant, snap...</td>\n",
       "    </tr>\n",
       "    <tr>\n",
       "      <td>3</td>\n",
       "      <td>Personal Inventory for Depression and SAD Self...</td>\n",
       "      <td>Were there two weeks or more . . .\\nwhen you h...</td>\n",
       "      <td>two weeks trouble falling asleep staying aslee...</td>\n",
       "      <td>[two, weeks, trouble, falling, asleep, staying...</td>\n",
       "      <td>[two, week, trouble, falling, asleep, staying,...</td>\n",
       "    </tr>\n",
       "    <tr>\n",
       "      <td>4</td>\n",
       "      <td>Center for Epidemiologic Studies Depression Scale</td>\n",
       "      <td>I was bothered by things that usually don’t bo...</td>\n",
       "      <td>bothered things usually dont bother mei feel l...</td>\n",
       "      <td>[bothered, things, usually, dont, bother, mei,...</td>\n",
       "      <td>[bothered, thing, usually, dont, bother, mei, ...</td>\n",
       "    </tr>\n",
       "  </tbody>\n",
       "</table>\n",
       "</div>"
      ],
      "text/plain": [
       "                                  questionnaire name  \\\n",
       "0                        Burn's Depression Checklist   \n",
       "1               Patient Health Questionnaire (PHQ-9)   \n",
       "2                        Beck's Depression Inventory   \n",
       "3  Personal Inventory for Depression and SAD Self...   \n",
       "4  Center for Epidemiologic Studies Depression Scale   \n",
       "\n",
       "                                             content  \\\n",
       "0  Feeling sad or down in the dumps\\nFeeling unha...   \n",
       "1  Little interest or pleasure in doing things\\nF...   \n",
       "2  I do not feel sad.\\nI feel sad\\nI am sad all t...   \n",
       "3  Were there two weeks or more . . .\\nwhen you h...   \n",
       "4  I was bothered by things that usually don’t bo...   \n",
       "\n",
       "                                        cleaned_text  \\\n",
       "0  feeling sad dumpsfeeling unhappy bluecrying sp...   \n",
       "1  little interest pleasure thingsfeeling depress...   \n",
       "2  feel sadi feel sadi sad time cant snap sad unh...   \n",
       "3  two weeks trouble falling asleep staying aslee...   \n",
       "4  bothered things usually dont bother mei feel l...   \n",
       "\n",
       "                                       cleaned_split  \\\n",
       "0  [feeling, sad, dumpsfeeling, unhappy, bluecryi...   \n",
       "1  [little, interest, pleasure, thingsfeeling, de...   \n",
       "2  [feel, sadi, feel, sadi, sad, time, cant, snap...   \n",
       "3  [two, weeks, trouble, falling, asleep, staying...   \n",
       "4  [bothered, things, usually, dont, bother, mei,...   \n",
       "\n",
       "                                          lemmatized  \n",
       "0  [feeling, sad, dumpsfeeling, unhappy, bluecryi...  \n",
       "1  [little, interest, pleasure, thingsfeeling, de...  \n",
       "2  [feel, sadi, feel, sadi, sad, time, cant, snap...  \n",
       "3  [two, week, trouble, falling, asleep, staying,...  \n",
       "4  [bothered, thing, usually, dont, bother, mei, ...  "
      ]
     },
     "execution_count": 9,
     "metadata": {},
     "output_type": "execute_result"
    }
   ],
   "source": [
    "df.head()"
   ]
  },
  {
   "cell_type": "code",
   "execution_count": 10,
   "metadata": {},
   "outputs": [
    {
     "data": {
      "text/plain": [
       "5"
      ]
     },
     "execution_count": 10,
     "metadata": {},
     "output_type": "execute_result"
    }
   ],
   "source": [
    "len(df)"
   ]
  },
  {
   "cell_type": "markdown",
   "metadata": {},
   "source": [
    "# Analysis"
   ]
  },
  {
   "cell_type": "code",
   "execution_count": 11,
   "metadata": {},
   "outputs": [],
   "source": [
    "def tweets_to_dtm(tweets):\n",
    "    tweets = tweets['cleaned_text']\n",
    "    vectorizer = CountVectorizer(max_features=2000)\n",
    "    dtm = vectorizer.fit_transform(tweets)\n",
    "    pickle.dump(vectorizer, open('out/dtm.pk', 'wb'))\n",
    "    return dtm, vectorizer\n",
    "\n",
    "def tweets_to_ngram(tweets, n=2):\n",
    "    tweets = tweets['cleaned_text']\n",
    "    vectorizer = CountVectorizer(\n",
    "        ngram_range=(n, n),\n",
    "        token_pattern=r'\\b\\w+\\b',\n",
    "        min_df=1,\n",
    "        max_features=2000)\n",
    "    dtm = vectorizer.fit_transform(tweets)\n",
    "    pickle.dump(vectorizer, open('out/ngram.pk', 'wb'))\n",
    "    return dtm, vectorizer\n",
    "\n",
    "def tweets_to_tfidf(tweets):\n",
    "    tweets = tweets['cleaned_text']\n",
    "    vectorizer = TfidfVectorizer(max_features=2000)\n",
    "    tfidf = vectorizer.fit_transform(tweets)\n",
    "    pickle.dump(vectorizer, open('out/tfidf.pk', 'wb'))\n",
    "    return tfidf, vectorizer"
   ]
  },
  {
   "cell_type": "code",
   "execution_count": 12,
   "metadata": {},
   "outputs": [
    {
     "name": "stdout",
     "output_type": "stream",
     "text": [
      "TFIDF matrix shape: (5, 329)\n"
     ]
    },
    {
     "data": {
      "text/plain": [
       "[('feeling', 110),\n",
       " ('sad', 240),\n",
       " ('dumpsfeeling', 76),\n",
       " ('unhappy', 301),\n",
       " ('bluecrying', 31)]"
      ]
     },
     "execution_count": 12,
     "metadata": {},
     "output_type": "execute_result"
    }
   ],
   "source": [
    "# Get TFIDF matrix\n",
    "tfidf, tfidf_v = tweets_to_tfidf(df)\n",
    "print('TFIDF matrix shape:', tfidf.toarray().shape)\n",
    "list(tfidf_v.vocabulary_.items())[0:5]"
   ]
  },
  {
   "cell_type": "code",
   "execution_count": 13,
   "metadata": {},
   "outputs": [],
   "source": [
    "def vector_to_frequency(vector, vectorizer):\n",
    "    \"\"\"\n",
    "    Return a list of words and their corresponding occurence in the corpus\n",
    "    \"\"\"\n",
    "    total = vector.sum(axis=0)\n",
    "    frequency = [(w, total[0, i]) for w, i in vectorizer.vocabulary_.items()]\n",
    "    frequency = pd.DataFrame(frequency, columns=['term', 'frequency'])\n",
    "    frequency = frequency.sort_values(by='frequency', ascending=False).reset_index(drop=True)\n",
    "    return frequency"
   ]
  },
  {
   "cell_type": "code",
   "execution_count": 14,
   "metadata": {},
   "outputs": [
    {
     "data": {
      "text/html": [
       "<div>\n",
       "<style scoped>\n",
       "    .dataframe tbody tr th:only-of-type {\n",
       "        vertical-align: middle;\n",
       "    }\n",
       "\n",
       "    .dataframe tbody tr th {\n",
       "        vertical-align: top;\n",
       "    }\n",
       "\n",
       "    .dataframe thead th {\n",
       "        text-align: right;\n",
       "    }\n",
       "</style>\n",
       "<table border=\"1\" class=\"dataframe\">\n",
       "  <thead>\n",
       "    <tr style=\"text-align: right;\">\n",
       "      <th></th>\n",
       "      <th>term</th>\n",
       "      <th>frequency</th>\n",
       "    </tr>\n",
       "  </thead>\n",
       "  <tbody>\n",
       "    <tr>\n",
       "      <td>0</td>\n",
       "      <td>felt</td>\n",
       "      <td>0.815493</td>\n",
       "    </tr>\n",
       "    <tr>\n",
       "      <td>1</td>\n",
       "      <td>tend</td>\n",
       "      <td>0.565353</td>\n",
       "    </tr>\n",
       "    <tr>\n",
       "      <td>2</td>\n",
       "      <td>feel</td>\n",
       "      <td>0.506056</td>\n",
       "    </tr>\n",
       "    <tr>\n",
       "      <td>3</td>\n",
       "      <td>interest</td>\n",
       "      <td>0.480608</td>\n",
       "    </tr>\n",
       "    <tr>\n",
       "      <td>4</td>\n",
       "      <td>little</td>\n",
       "      <td>0.450480</td>\n",
       "    </tr>\n",
       "    <tr>\n",
       "      <td>5</td>\n",
       "      <td>family</td>\n",
       "      <td>0.391687</td>\n",
       "    </tr>\n",
       "    <tr>\n",
       "      <td>6</td>\n",
       "      <td>used</td>\n",
       "      <td>0.383222</td>\n",
       "    </tr>\n",
       "    <tr>\n",
       "      <td>7</td>\n",
       "      <td>feeling</td>\n",
       "      <td>0.372018</td>\n",
       "    </tr>\n",
       "    <tr>\n",
       "      <td>8</td>\n",
       "      <td>sleeping</td>\n",
       "      <td>0.362860</td>\n",
       "    </tr>\n",
       "    <tr>\n",
       "      <td>9</td>\n",
       "      <td>dont</td>\n",
       "      <td>0.338116</td>\n",
       "    </tr>\n",
       "    <tr>\n",
       "      <td>10</td>\n",
       "      <td>appetite</td>\n",
       "      <td>0.287714</td>\n",
       "    </tr>\n",
       "    <tr>\n",
       "      <td>11</td>\n",
       "      <td>could</td>\n",
       "      <td>0.287300</td>\n",
       "    </tr>\n",
       "    <tr>\n",
       "      <td>12</td>\n",
       "      <td>work</td>\n",
       "      <td>0.281402</td>\n",
       "    </tr>\n",
       "    <tr>\n",
       "      <td>13</td>\n",
       "      <td>tired</td>\n",
       "      <td>0.281332</td>\n",
       "    </tr>\n",
       "    <tr>\n",
       "      <td>14</td>\n",
       "      <td>would</td>\n",
       "      <td>0.268684</td>\n",
       "    </tr>\n",
       "    <tr>\n",
       "      <td>15</td>\n",
       "      <td>pleasure</td>\n",
       "      <td>0.264397</td>\n",
       "    </tr>\n",
       "    <tr>\n",
       "      <td>16</td>\n",
       "      <td>things</td>\n",
       "      <td>0.252324</td>\n",
       "    </tr>\n",
       "    <tr>\n",
       "      <td>17</td>\n",
       "      <td>time</td>\n",
       "      <td>0.251123</td>\n",
       "    </tr>\n",
       "    <tr>\n",
       "      <td>18</td>\n",
       "      <td>moving</td>\n",
       "      <td>0.250580</td>\n",
       "    </tr>\n",
       "    <tr>\n",
       "      <td>19</td>\n",
       "      <td>asleep</td>\n",
       "      <td>0.250580</td>\n",
       "    </tr>\n",
       "  </tbody>\n",
       "</table>\n",
       "</div>"
      ],
      "text/plain": [
       "        term  frequency\n",
       "0       felt   0.815493\n",
       "1       tend   0.565353\n",
       "2       feel   0.506056\n",
       "3   interest   0.480608\n",
       "4     little   0.450480\n",
       "5     family   0.391687\n",
       "6       used   0.383222\n",
       "7    feeling   0.372018\n",
       "8   sleeping   0.362860\n",
       "9       dont   0.338116\n",
       "10  appetite   0.287714\n",
       "11     could   0.287300\n",
       "12      work   0.281402\n",
       "13     tired   0.281332\n",
       "14     would   0.268684\n",
       "15  pleasure   0.264397\n",
       "16    things   0.252324\n",
       "17      time   0.251123\n",
       "18    moving   0.250580\n",
       "19    asleep   0.250580"
      ]
     },
     "execution_count": 14,
     "metadata": {},
     "output_type": "execute_result"
    }
   ],
   "source": [
    "freq_tfidf = vector_to_frequency(tfidf, tfidf_v)\n",
    "freq_tfidf.to_csv('out/frequency_tfidf.csv', index=False)\n",
    "freq_tfidf.head(20)"
   ]
  },
  {
   "cell_type": "code",
   "execution_count": 15,
   "metadata": {},
   "outputs": [
    {
     "data": {
      "text/plain": [
       "Text(0.5, 1.0, 'Frequent terms in TFIDF')"
      ]
     },
     "execution_count": 15,
     "metadata": {},
     "output_type": "execute_result"
    },
    {
     "data": {
      "image/png": "[encoded data removed]",
      "text/plain": [
       "<Figure size 432x288 with 1 Axes>"
      ]
     },
     "metadata": {
      "needs_background": "light"
     },
     "output_type": "display_data"
    }
   ],
   "source": [
    "# Visualize frequencies\n",
    "sns.barplot(data=freq_tfidf.head(20), x='frequency',\n",
    "            y='term').set_title('Frequent terms in TFIDF')"
   ]
  },
  {
   "cell_type": "code",
   "execution_count": 16,
   "metadata": {},
   "outputs": [
    {
     "data": {
      "text/html": [
       "<div>\n",
       "<style scoped>\n",
       "    .dataframe tbody tr th:only-of-type {\n",
       "        vertical-align: middle;\n",
       "    }\n",
       "\n",
       "    .dataframe tbody tr th {\n",
       "        vertical-align: top;\n",
       "    }\n",
       "\n",
       "    .dataframe thead th {\n",
       "        text-align: right;\n",
       "    }\n",
       "</style>\n",
       "<table border=\"1\" class=\"dataframe\">\n",
       "  <thead>\n",
       "    <tr style=\"text-align: right;\">\n",
       "      <th></th>\n",
       "      <th>questionnaire name</th>\n",
       "      <th>content</th>\n",
       "      <th>cleaned_text</th>\n",
       "      <th>cleaned_split</th>\n",
       "      <th>lemmatized</th>\n",
       "    </tr>\n",
       "  </thead>\n",
       "  <tbody>\n",
       "    <tr>\n",
       "      <td>0</td>\n",
       "      <td>Burn's Depression Checklist</td>\n",
       "      <td>Feeling sad or down in the dumps\\nFeeling unha...</td>\n",
       "      <td>feeling sad dumpsfeeling unhappy bluecrying sp...</td>\n",
       "      <td>[feeling, sad, dumpsfeeling, unhappy, bluecryi...</td>\n",
       "      <td>[feeling, sad, dumpsfeeling, unhappy, bluecryi...</td>\n",
       "    </tr>\n",
       "    <tr>\n",
       "      <td>1</td>\n",
       "      <td>Patient Health Questionnaire (PHQ-9)</td>\n",
       "      <td>Little interest or pleasure in doing things\\nF...</td>\n",
       "      <td>little interest pleasure thingsfeeling depress...</td>\n",
       "      <td>[little, interest, pleasure, thingsfeeling, de...</td>\n",
       "      <td>[little, interest, pleasure, thingsfeeling, de...</td>\n",
       "    </tr>\n",
       "    <tr>\n",
       "      <td>2</td>\n",
       "      <td>Beck's Depression Inventory</td>\n",
       "      <td>I do not feel sad.\\nI feel sad\\nI am sad all t...</td>\n",
       "      <td>feel sadi feel sadi sad time cant snap sad unh...</td>\n",
       "      <td>[feel, sadi, feel, sadi, sad, time, cant, snap...</td>\n",
       "      <td>[feel, sadi, feel, sadi, sad, time, cant, snap...</td>\n",
       "    </tr>\n",
       "    <tr>\n",
       "      <td>3</td>\n",
       "      <td>Personal Inventory for Depression and SAD Self...</td>\n",
       "      <td>Were there two weeks or more . . .\\nwhen you h...</td>\n",
       "      <td>two weeks trouble falling asleep staying aslee...</td>\n",
       "      <td>[two, weeks, trouble, falling, asleep, staying...</td>\n",
       "      <td>[two, week, trouble, falling, asleep, staying,...</td>\n",
       "    </tr>\n",
       "    <tr>\n",
       "      <td>4</td>\n",
       "      <td>Center for Epidemiologic Studies Depression Scale</td>\n",
       "      <td>I was bothered by things that usually don’t bo...</td>\n",
       "      <td>bothered things usually dont bother mei feel l...</td>\n",
       "      <td>[bothered, things, usually, dont, bother, mei,...</td>\n",
       "      <td>[bothered, thing, usually, dont, bother, mei, ...</td>\n",
       "    </tr>\n",
       "  </tbody>\n",
       "</table>\n",
       "</div>"
      ],
      "text/plain": [
       "                                  questionnaire name  \\\n",
       "0                        Burn's Depression Checklist   \n",
       "1               Patient Health Questionnaire (PHQ-9)   \n",
       "2                        Beck's Depression Inventory   \n",
       "3  Personal Inventory for Depression and SAD Self...   \n",
       "4  Center for Epidemiologic Studies Depression Scale   \n",
       "\n",
       "                                             content  \\\n",
       "0  Feeling sad or down in the dumps\\nFeeling unha...   \n",
       "1  Little interest or pleasure in doing things\\nF...   \n",
       "2  I do not feel sad.\\nI feel sad\\nI am sad all t...   \n",
       "3  Were there two weeks or more . . .\\nwhen you h...   \n",
       "4  I was bothered by things that usually don’t bo...   \n",
       "\n",
       "                                        cleaned_text  \\\n",
       "0  feeling sad dumpsfeeling unhappy bluecrying sp...   \n",
       "1  little interest pleasure thingsfeeling depress...   \n",
       "2  feel sadi feel sadi sad time cant snap sad unh...   \n",
       "3  two weeks trouble falling asleep staying aslee...   \n",
       "4  bothered things usually dont bother mei feel l...   \n",
       "\n",
       "                                       cleaned_split  \\\n",
       "0  [feeling, sad, dumpsfeeling, unhappy, bluecryi...   \n",
       "1  [little, interest, pleasure, thingsfeeling, de...   \n",
       "2  [feel, sadi, feel, sadi, sad, time, cant, snap...   \n",
       "3  [two, weeks, trouble, falling, asleep, staying...   \n",
       "4  [bothered, things, usually, dont, bother, mei,...   \n",
       "\n",
       "                                          lemmatized  \n",
       "0  [feeling, sad, dumpsfeeling, unhappy, bluecryi...  \n",
       "1  [little, interest, pleasure, thingsfeeling, de...  \n",
       "2  [feel, sadi, feel, sadi, sad, time, cant, snap...  \n",
       "3  [two, week, trouble, falling, asleep, staying,...  \n",
       "4  [bothered, thing, usually, dont, bother, mei, ...  "
      ]
     },
     "execution_count": 16,
     "metadata": {},
     "output_type": "execute_result"
    }
   ],
   "source": [
    "df.head()"
   ]
  },
  {
   "cell_type": "code",
   "execution_count": 17,
   "metadata": {},
   "outputs": [],
   "source": [
    "df.to_pickle('./Cleaned/questionnaire_cleaned.pkl')"
   ]
  },
  {
   "cell_type": "code",
   "execution_count": 18,
   "metadata": {},
   "outputs": [
    {
     "data": {
      "text/plain": [
       "'https://stackoverflow.com/questions/15424895/creating-lexicon-and-scanner-in-python'"
      ]
     },
     "execution_count": 18,
     "metadata": {},
     "output_type": "execute_result"
    }
   ],
   "source": [
    "\"https://stackoverflow.com/questions/15424895/creating-lexicon-and-scanner-in-python\""
   ]
  },
  {
   "cell_type": "code",
   "execution_count": null,
   "metadata": {},
   "outputs": [],
   "source": []
  }
 ],
 "metadata": {
  "kernelspec": {
   "display_name": "Python 3",
   "language": "python",
   "name": "python3"
  },
  "language_info": {
   "codemirror_mode": {
    "name": "ipython",
    "version": 3
   },
   "file_extension": ".py",
   "mimetype": "text/x-python",
   "name": "python",
   "nbconvert_exporter": "python",
   "pygments_lexer": "ipython3",
   "version": "3.7.4"
  }
 },
 "nbformat": 4,
 "nbformat_minor": 4
}
