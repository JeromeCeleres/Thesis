{
 "cells": [
  {
   "cell_type": "code",
   "execution_count": 37,
   "metadata": {},
   "outputs": [],
   "source": [
    "from bs4 import BeautifulSoup\n",
    "from selenium import webdriver\n",
    "import re"
   ]
  },
  {
   "cell_type": "code",
   "execution_count": 50,
   "metadata": {},
   "outputs": [],
   "source": [
    "driver = webdriver.Firefox()\n",
    "driver.get('https://cse.google.com/cse?cx=0a1edc7cadfc7b033&q=extrajudicial')\n",
    "\n",
    "html = driver.page_source\n",
    "soup = BeautifulSoup(html)\n",
    "links = soup.findAll(\"a\")"
   ]
  },
  {
   "cell_type": "code",
   "execution_count": 51,
   "metadata": {},
   "outputs": [],
   "source": [
    "for link in soup.find_all(\"a\", href=re.compile(\"(?<=/url\\?q=)(htt.*://.*)\")):\n",
    "    print(re.split(\":(?=http)\",link[\"href\"].replace(\"/url?q=\",\"\")))"
   ]
  },
  {
   "cell_type": "code",
   "execution_count": 112,
   "metadata": {},
   "outputs": [
    {
     "data": {
      "text/plain": [
       "[]"
      ]
     },
     "execution_count": 112,
     "metadata": {},
     "output_type": "execute_result"
    }
   ],
   "source": [
    "soup.find_all(\"a\", href=re.compile(\"data=ctorig=\\\"'(.*)\"))"
   ]
  },
  {
   "cell_type": "code",
   "execution_count": 175,
   "metadata": {},
   "outputs": [],
   "source": [
    "l = []"
   ]
  },
  {
   "cell_type": "code",
   "execution_count": 176,
   "metadata": {},
   "outputs": [],
   "source": [
    "for link in links:\n",
    "    x = re.findall(r'data-ctorig=\\\"(.*)\\\"\\sdata', str(link))\n",
    "    if len(x) > 0:\n",
    "        l.append(x[0])"
   ]
  },
  {
   "cell_type": "code",
   "execution_count": 178,
   "metadata": {},
   "outputs": [],
   "source": [
    "l = list(dict.fromkeys(l))"
   ]
  },
  {
   "cell_type": "code",
   "execution_count": 179,
   "metadata": {},
   "outputs": [
    {
     "data": {
      "text/plain": [
       "['https://rappler.com/nation/de-lima-landmark-bill-extrajudicial-killings',\n",
       " 'https://rappler.com/newsbreak/in-depth/pnp-number-deaths-daily-duterte-administration',\n",
       " 'https://rappler.com/voices/thought-leaders/comparing-extrajudicial-killings-philippines-united-states',\n",
       " 'https://rappler.com/nation/pnp-behind-extrajudicial-killings-human-rights-watch',\n",
       " 'https://rappler.com/voices/thought-leaders/confronting-extrajudicial-killings-duterte',\n",
       " 'https://rappler.com/nation/duterte-says-only-sin-extrajudicial-killings',\n",
       " 'https://rappler.com/extrajudicial-killings',\n",
       " 'https://rappler.com/newsbreak/in-depth/new-case-extrajudicial-killing-marikina',\n",
       " 'https://rappler.com/nation/full-text-leila-de-lima-privilege-speech-extrajudicial-killings',\n",
       " 'https://rappler.com/nation/one-extrajudicial-killing-ejk-duterte-administration-pnp']"
      ]
     },
     "execution_count": 179,
     "metadata": {},
     "output_type": "execute_result"
    }
   ],
   "source": [
    "l"
   ]
  },
  {
   "cell_type": "code",
   "execution_count": null,
   "metadata": {},
   "outputs": [],
   "source": []
  }
 ],
 "metadata": {
  "kernelspec": {
   "display_name": "Python 3",
   "language": "python",
   "name": "python3"
  },
  "language_info": {
   "codemirror_mode": {
    "name": "ipython",
    "version": 3
   },
   "file_extension": ".py",
   "mimetype": "text/x-python",
   "name": "python",
   "nbconvert_exporter": "python",
   "pygments_lexer": "ipython3",
   "version": "3.7.4"
  }
 },
 "nbformat": 4,
 "nbformat_minor": 4
}
