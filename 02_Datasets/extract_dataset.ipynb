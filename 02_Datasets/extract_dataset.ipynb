{
 "cells": [
  {
   "cell_type": "code",
   "execution_count": 19,
   "id": "resistant-error",
   "metadata": {},
   "outputs": [],
   "source": [
    "import pandas as pd\n",
    "import numpy as np"
   ]
  },
  {
   "cell_type": "code",
   "execution_count": 9,
   "id": "vocal-essex",
   "metadata": {},
   "outputs": [],
   "source": [
    "def get_random_df_rows(file_name, num_of_rows):\n",
    "    df = pd.read_csv(file_name)\n",
    "    df = df.sample(n=num_of_rows)\n",
    "    return df"
   ]
  },
  {
   "cell_type": "code",
   "execution_count": 10,
   "id": "relative-haven",
   "metadata": {},
   "outputs": [],
   "source": [
    "df = get_random_df_rows('1-narratives.csv', 5000)"
   ]
  },
  {
   "cell_type": "code",
   "execution_count": 11,
   "id": "flying-protection",
   "metadata": {},
   "outputs": [
    {
     "data": {
      "text/html": [
       "<div>\n",
       "<style scoped>\n",
       "    .dataframe tbody tr th:only-of-type {\n",
       "        vertical-align: middle;\n",
       "    }\n",
       "\n",
       "    .dataframe tbody tr th {\n",
       "        vertical-align: top;\n",
       "    }\n",
       "\n",
       "    .dataframe thead th {\n",
       "        text-align: right;\n",
       "    }\n",
       "</style>\n",
       "<table border=\"1\" class=\"dataframe\">\n",
       "  <thead>\n",
       "    <tr style=\"text-align: right;\">\n",
       "      <th></th>\n",
       "      <th>Unnamed: 0</th>\n",
       "      <th>Unnamed: 0.1</th>\n",
       "      <th>author</th>\n",
       "      <th>created_utc</th>\n",
       "      <th>selftext</th>\n",
       "      <th>subreddit</th>\n",
       "      <th>title</th>\n",
       "      <th>url</th>\n",
       "      <th>created</th>\n",
       "      <th>Unnamed: 0.1.1</th>\n",
       "    </tr>\n",
       "  </thead>\n",
       "  <tbody>\n",
       "    <tr>\n",
       "      <th>330</th>\n",
       "      <td>330</td>\n",
       "      <td>213</td>\n",
       "      <td>redditusername3330</td>\n",
       "      <td>1.597268e+09</td>\n",
       "      <td>I'm 19 right now and broke af but should be wo...</td>\n",
       "      <td>abuse</td>\n",
       "      <td>What age did yall move out</td>\n",
       "      <td>https://www.reddit.com/r/abuse/comments/i8mnqv...</td>\n",
       "      <td>1.597239e+09</td>\n",
       "      <td>96.0</td>\n",
       "    </tr>\n",
       "    <tr>\n",
       "      <th>11600</th>\n",
       "      <td>11600</td>\n",
       "      <td>11483</td>\n",
       "      <td>Kiryu07</td>\n",
       "      <td>1.596663e+09</td>\n",
       "      <td>So some days when I'm really depressed I see e...</td>\n",
       "      <td>depression</td>\n",
       "      <td>Is this a unique type of fucked up?</td>\n",
       "      <td>https://www.reddit.com/r/depression/comments/i...</td>\n",
       "      <td>1.596634e+09</td>\n",
       "      <td>6699.0</td>\n",
       "    </tr>\n",
       "    <tr>\n",
       "      <th>21859</th>\n",
       "      <td>21859</td>\n",
       "      <td>843</td>\n",
       "      <td>Lemonbean0</td>\n",
       "      <td>1.597459e+09</td>\n",
       "      <td>Hi so if you see this and are considering suic...</td>\n",
       "      <td>depression</td>\n",
       "      <td>To Help You💖</td>\n",
       "      <td>https://www.reddit.com/r/depression/comments/i...</td>\n",
       "      <td>1.597431e+09</td>\n",
       "      <td>NaN</td>\n",
       "    </tr>\n",
       "    <tr>\n",
       "      <th>9191</th>\n",
       "      <td>9191</td>\n",
       "      <td>9074</td>\n",
       "      <td>Aggravating_Stock_82</td>\n",
       "      <td>1.597004e+09</td>\n",
       "      <td>Theres nothing I can do, my Computer and Apple...</td>\n",
       "      <td>depression</td>\n",
       "      <td>my embarrassing explicit video might be leaked</td>\n",
       "      <td>https://www.reddit.com/r/depression/comments/i...</td>\n",
       "      <td>1.596976e+09</td>\n",
       "      <td>4290.0</td>\n",
       "    </tr>\n",
       "    <tr>\n",
       "      <th>13760</th>\n",
       "      <td>13760</td>\n",
       "      <td>13643</td>\n",
       "      <td>Nedyet</td>\n",
       "      <td>1.614061e+09</td>\n",
       "      <td>[removed]</td>\n",
       "      <td>Anxiety</td>\n",
       "      <td>Please participate in this study by clicking t...</td>\n",
       "      <td>https://www.reddit.com/r/Anxiety/comments/lqb3...</td>\n",
       "      <td>1.614032e+09</td>\n",
       "      <td>414.0</td>\n",
       "    </tr>\n",
       "  </tbody>\n",
       "</table>\n",
       "</div>"
      ],
      "text/plain": [
       "       Unnamed: 0  Unnamed: 0.1                author   created_utc  \\\n",
       "330           330           213    redditusername3330  1.597268e+09   \n",
       "11600       11600         11483               Kiryu07  1.596663e+09   \n",
       "21859       21859           843            Lemonbean0  1.597459e+09   \n",
       "9191         9191          9074  Aggravating_Stock_82  1.597004e+09   \n",
       "13760       13760         13643                Nedyet  1.614061e+09   \n",
       "\n",
       "                                                selftext   subreddit  \\\n",
       "330    I'm 19 right now and broke af but should be wo...       abuse   \n",
       "11600  So some days when I'm really depressed I see e...  depression   \n",
       "21859  Hi so if you see this and are considering suic...  depression   \n",
       "9191   Theres nothing I can do, my Computer and Apple...  depression   \n",
       "13760                                          [removed]     Anxiety   \n",
       "\n",
       "                                                   title  \\\n",
       "330                           What age did yall move out   \n",
       "11600                Is this a unique type of fucked up?   \n",
       "21859                                       To Help You💖   \n",
       "9191      my embarrassing explicit video might be leaked   \n",
       "13760  Please participate in this study by clicking t...   \n",
       "\n",
       "                                                     url       created  \\\n",
       "330    https://www.reddit.com/r/abuse/comments/i8mnqv...  1.597239e+09   \n",
       "11600  https://www.reddit.com/r/depression/comments/i...  1.596634e+09   \n",
       "21859  https://www.reddit.com/r/depression/comments/i...  1.597431e+09   \n",
       "9191   https://www.reddit.com/r/depression/comments/i...  1.596976e+09   \n",
       "13760  https://www.reddit.com/r/Anxiety/comments/lqb3...  1.614032e+09   \n",
       "\n",
       "       Unnamed: 0.1.1  \n",
       "330              96.0  \n",
       "11600          6699.0  \n",
       "21859             NaN  \n",
       "9191           4290.0  \n",
       "13760           414.0  "
      ]
     },
     "execution_count": 11,
     "metadata": {},
     "output_type": "execute_result"
    }
   ],
   "source": [
    "df.head()"
   ]
  },
  {
   "cell_type": "code",
   "execution_count": 16,
   "id": "under-supply",
   "metadata": {},
   "outputs": [],
   "source": [
    "# update punctuations list if needed\n",
    "punctuations = '\\.\\!\\?'\n",
    "expanded_df = (df.drop('selftext',axis=1)\n",
    "                    .merge(df.selftext\n",
    "                             .str.extractall(f'(?P<sentence>[^{punctuations}]+[{punctuations}])\\s?')\n",
    "                             .reset_index('match'),\n",
    "                    left_index=True, right_index=True, how='left')\n",
    "               )"
   ]
  },
  {
   "cell_type": "code",
   "execution_count": 18,
   "id": "antique-office",
   "metadata": {},
   "outputs": [
    {
     "ename": "NameError",
     "evalue": "name 'np' is not defined",
     "output_type": "error",
     "traceback": [
      "\u001b[0;31m---------------------------------------------------------------------------\u001b[0m",
      "\u001b[0;31mNameError\u001b[0m                                 Traceback (most recent call last)",
      "\u001b[0;32m<ipython-input-18-d9dedbc24d56>\u001b[0m in \u001b[0;36m<module>\u001b[0;34m\u001b[0m\n\u001b[0;32m----> 1\u001b[0;31m \u001b[0mexpanded_df\u001b[0m\u001b[0;34m[\u001b[0m\u001b[0;34m'sentence'\u001b[0m\u001b[0;34m]\u001b[0m\u001b[0;34m.\u001b[0m\u001b[0mreplace\u001b[0m\u001b[0;34m(\u001b[0m\u001b[0;34m''\u001b[0m\u001b[0;34m,\u001b[0m \u001b[0mnp\u001b[0m\u001b[0;34m.\u001b[0m\u001b[0mnan\u001b[0m\u001b[0;34m,\u001b[0m \u001b[0minplace\u001b[0m\u001b[0;34m=\u001b[0m\u001b[0;32mTrue\u001b[0m\u001b[0;34m)\u001b[0m\u001b[0;34m\u001b[0m\u001b[0;34m\u001b[0m\u001b[0m\n\u001b[0m\u001b[1;32m      2\u001b[0m \u001b[0mexpanded_df\u001b[0m\u001b[0;34m.\u001b[0m\u001b[0mdropna\u001b[0m\u001b[0;34m(\u001b[0m\u001b[0msubset\u001b[0m\u001b[0;34m=\u001b[0m\u001b[0;34m[\u001b[0m\u001b[0;34m'sentence'\u001b[0m\u001b[0;34m]\u001b[0m\u001b[0;34m,\u001b[0m \u001b[0minplace\u001b[0m\u001b[0;34m=\u001b[0m\u001b[0;32mTrue\u001b[0m\u001b[0;34m)\u001b[0m\u001b[0;34m\u001b[0m\u001b[0;34m\u001b[0m\u001b[0m\n",
      "\u001b[0;31mNameError\u001b[0m: name 'np' is not defined"
     ]
    }
   ],
   "source": [
    "expanded_df['sentence'].replace('', np.nan, inplace=True)\n",
    "expanded_df.dropna(subset=['sentence'], inplace=True)"
   ]
  },
  {
   "cell_type": "code",
   "execution_count": 17,
   "id": "veterinary-finding",
   "metadata": {},
   "outputs": [],
   "source": [
    "expanded_df.to_csv(f\"1-randomized-narratives.csv\")"
   ]
  },
  {
   "cell_type": "code",
   "execution_count": null,
   "id": "small-wallace",
   "metadata": {},
   "outputs": [],
   "source": []
  }
 ],
 "metadata": {
  "kernelspec": {
   "display_name": "Python 3",
   "language": "python",
   "name": "python3"
  },
  "language_info": {
   "codemirror_mode": {
    "name": "ipython",
    "version": 3
   },
   "file_extension": ".py",
   "mimetype": "text/x-python",
   "name": "python",
   "nbconvert_exporter": "python",
   "pygments_lexer": "ipython3",
   "version": "3.8.7"
  }
 },
 "nbformat": 4,
 "nbformat_minor": 5
}
